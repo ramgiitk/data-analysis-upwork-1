{
 "cells": [
  {
   "cell_type": "markdown",
   "metadata": {},
   "source": [
    "## Overview\n",
    "\n",
    "The client -**The Greek Michigan** - operates a real estate agency in the US. The client is looking to build a reliable system which helps in determining property adjustments when appraising single-family real estate. \n",
    "\n",
    "Each of the properies has some of the relevant characterics such as Size (Above Ground Living Area), Site Size, Above Ground Bedroom Count,Full Bathroom Count,Half Bathroom Count,Age of the property,Swimming Pool (Above Ground & Inground)\n",
    "Waterfront Site,Basement Walkout,Distressed Properties (Not Privately Owned),Market Conditions (Month of Sales Contract) and a few other.\n",
    "\n",
    "Using propery data, we need to answer some of the below questions.\n",
    "\n",
    "Does a feature affect value of propery? If it does, is the contribution statistically significant?\n",
    "Also, whether the feature and propery price are correlated? Some of the key statistics of the feature - Min, Median/Mean and Max\n",
    "How to visualize stats and information for the client to use in decision making?\n",
    "\n"
   ]
  },
  {
   "cell_type": "markdown",
   "metadata": {},
   "source": [
    "### Read data"
   ]
  },
  {
   "cell_type": "code",
   "execution_count": 8,
   "metadata": {},
   "outputs": [],
   "source": [
    "import pandas as pd\n",
    "realestate2 = pd.read_csv(\"C:\\\\Ram\\\\Upwork\\\\Project - Online Real Estate Analysis Tool\\\\input_data_2_branches.csv\")"
   ]
  },
  {
   "cell_type": "code",
   "execution_count": 9,
   "metadata": {},
   "outputs": [
    {
     "data": {
      "text/html": [
       "<div>\n",
       "<style scoped>\n",
       "    .dataframe tbody tr th:only-of-type {\n",
       "        vertical-align: middle;\n",
       "    }\n",
       "\n",
       "    .dataframe tbody tr th {\n",
       "        vertical-align: top;\n",
       "    }\n",
       "\n",
       "    .dataframe thead th {\n",
       "        text-align: right;\n",
       "    }\n",
       "</style>\n",
       "<table border=\"1\" class=\"dataframe\">\n",
       "  <thead>\n",
       "    <tr style=\"text-align: right;\">\n",
       "      <th></th>\n",
       "      <th>Locality</th>\n",
       "      <th>Close_Date</th>\n",
       "      <th>ClosePrice</th>\n",
       "      <th>Acreage</th>\n",
       "      <th>ArchitectureLevel</th>\n",
       "      <th>BasementType</th>\n",
       "      <th>Basement_YN</th>\n",
       "      <th>Baths_Full</th>\n",
       "      <th>Baths_Half</th>\n",
       "      <th>Beds_Total</th>\n",
       "      <th>...</th>\n",
       "      <th>Garage_YN</th>\n",
       "      <th>Out_Buildings</th>\n",
       "      <th>Ownership</th>\n",
       "      <th>Pool_YN</th>\n",
       "      <th>Seller_Concession_Amount</th>\n",
       "      <th>Seller_Concession_YN</th>\n",
       "      <th>Water_Frontage_Feet</th>\n",
       "      <th>Waterfront_YN</th>\n",
       "      <th>Year_Built</th>\n",
       "      <th>Year_Remodeled</th>\n",
       "    </tr>\n",
       "  </thead>\n",
       "  <tbody>\n",
       "    <tr>\n",
       "      <th>0</th>\n",
       "      <td>Brick Ranch</td>\n",
       "      <td>5/12/2017</td>\n",
       "      <td>176000.0</td>\n",
       "      <td>0.21</td>\n",
       "      <td>1 Story</td>\n",
       "      <td>Finished</td>\n",
       "      <td>True</td>\n",
       "      <td>1</td>\n",
       "      <td>1</td>\n",
       "      <td>3</td>\n",
       "      <td>...</td>\n",
       "      <td>True</td>\n",
       "      <td>NaN</td>\n",
       "      <td>Private - Owned</td>\n",
       "      <td>False</td>\n",
       "      <td>NaN</td>\n",
       "      <td>False</td>\n",
       "      <td>NaN</td>\n",
       "      <td>False</td>\n",
       "      <td>1969</td>\n",
       "      <td>NaN</td>\n",
       "    </tr>\n",
       "    <tr>\n",
       "      <th>1</th>\n",
       "      <td>Brick Ranch</td>\n",
       "      <td>7/24/2017</td>\n",
       "      <td>140000.0</td>\n",
       "      <td>0.17</td>\n",
       "      <td>1 Story</td>\n",
       "      <td>Finished</td>\n",
       "      <td>True</td>\n",
       "      <td>1</td>\n",
       "      <td>1</td>\n",
       "      <td>3</td>\n",
       "      <td>...</td>\n",
       "      <td>True</td>\n",
       "      <td>NaN</td>\n",
       "      <td>Private - Owned</td>\n",
       "      <td>False</td>\n",
       "      <td>NaN</td>\n",
       "      <td>False</td>\n",
       "      <td>NaN</td>\n",
       "      <td>False</td>\n",
       "      <td>1960</td>\n",
       "      <td>NaN</td>\n",
       "    </tr>\n",
       "    <tr>\n",
       "      <th>2</th>\n",
       "      <td>Brick Ranch</td>\n",
       "      <td>7/24/2017</td>\n",
       "      <td>165000.0</td>\n",
       "      <td>0.18</td>\n",
       "      <td>1 Story</td>\n",
       "      <td>Finished</td>\n",
       "      <td>True</td>\n",
       "      <td>2</td>\n",
       "      <td>0</td>\n",
       "      <td>4</td>\n",
       "      <td>...</td>\n",
       "      <td>True</td>\n",
       "      <td>NaN</td>\n",
       "      <td>Private - Owned</td>\n",
       "      <td>False</td>\n",
       "      <td>NaN</td>\n",
       "      <td>False</td>\n",
       "      <td>NaN</td>\n",
       "      <td>False</td>\n",
       "      <td>1956</td>\n",
       "      <td>NaN</td>\n",
       "    </tr>\n",
       "    <tr>\n",
       "      <th>3</th>\n",
       "      <td>Brick Ranch</td>\n",
       "      <td>7/24/2017</td>\n",
       "      <td>171000.0</td>\n",
       "      <td>0.19</td>\n",
       "      <td>1 Story</td>\n",
       "      <td>Finished</td>\n",
       "      <td>True</td>\n",
       "      <td>1</td>\n",
       "      <td>1</td>\n",
       "      <td>3</td>\n",
       "      <td>...</td>\n",
       "      <td>True</td>\n",
       "      <td>NaN</td>\n",
       "      <td>Private - Owned</td>\n",
       "      <td>False</td>\n",
       "      <td>NaN</td>\n",
       "      <td>False</td>\n",
       "      <td>NaN</td>\n",
       "      <td>False</td>\n",
       "      <td>1969</td>\n",
       "      <td>NaN</td>\n",
       "    </tr>\n",
       "    <tr>\n",
       "      <th>4</th>\n",
       "      <td>Brick Ranch</td>\n",
       "      <td>7/24/2017</td>\n",
       "      <td>200000.0</td>\n",
       "      <td>0.17</td>\n",
       "      <td>1 Story</td>\n",
       "      <td>Finished</td>\n",
       "      <td>True</td>\n",
       "      <td>1</td>\n",
       "      <td>1</td>\n",
       "      <td>3</td>\n",
       "      <td>...</td>\n",
       "      <td>True</td>\n",
       "      <td>NaN</td>\n",
       "      <td>Private - Owned</td>\n",
       "      <td>False</td>\n",
       "      <td>NaN</td>\n",
       "      <td>False</td>\n",
       "      <td>NaN</td>\n",
       "      <td>False</td>\n",
       "      <td>1966</td>\n",
       "      <td>NaN</td>\n",
       "    </tr>\n",
       "  </tbody>\n",
       "</table>\n",
       "<p>5 rows × 22 columns</p>\n",
       "</div>"
      ],
      "text/plain": [
       "      Locality Close_Date  ClosePrice  Acreage ArchitectureLevel BasementType  \\\n",
       "0  Brick Ranch  5/12/2017    176000.0     0.21           1 Story     Finished   \n",
       "1  Brick Ranch  7/24/2017    140000.0     0.17           1 Story     Finished   \n",
       "2  Brick Ranch  7/24/2017    165000.0     0.18           1 Story     Finished   \n",
       "3  Brick Ranch  7/24/2017    171000.0     0.19           1 Story     Finished   \n",
       "4  Brick Ranch  7/24/2017    200000.0     0.17           1 Story     Finished   \n",
       "\n",
       "   Basement_YN  Baths_Full  Baths_Half  Beds_Total  ...  Garage_YN  \\\n",
       "0         True           1           1           3  ...       True   \n",
       "1         True           1           1           3  ...       True   \n",
       "2         True           2           0           4  ...       True   \n",
       "3         True           1           1           3  ...       True   \n",
       "4         True           1           1           3  ...       True   \n",
       "\n",
       "  Out_Buildings        Ownership Pool_YN Seller_Concession_Amount  \\\n",
       "0           NaN  Private - Owned   False                      NaN   \n",
       "1           NaN  Private - Owned   False                      NaN   \n",
       "2           NaN  Private - Owned   False                      NaN   \n",
       "3           NaN  Private - Owned   False                      NaN   \n",
       "4           NaN  Private - Owned   False                      NaN   \n",
       "\n",
       "   Seller_Concession_YN  Water_Frontage_Feet Waterfront_YN  Year_Built  \\\n",
       "0                 False                  NaN         False        1969   \n",
       "1                 False                  NaN         False        1960   \n",
       "2                 False                  NaN         False        1956   \n",
       "3                 False                  NaN         False        1969   \n",
       "4                 False                  NaN         False        1966   \n",
       "\n",
       "   Year_Remodeled  \n",
       "0             NaN  \n",
       "1             NaN  \n",
       "2             NaN  \n",
       "3             NaN  \n",
       "4             NaN  \n",
       "\n",
       "[5 rows x 22 columns]"
      ]
     },
     "execution_count": 9,
     "metadata": {},
     "output_type": "execute_result"
    }
   ],
   "source": [
    "# see the data\n",
    "realestate2.head()"
   ]
  },
  {
   "cell_type": "code",
   "execution_count": 10,
   "metadata": {},
   "outputs": [
    {
     "data": {
      "text/html": [
       "<div>\n",
       "<style scoped>\n",
       "    .dataframe tbody tr th:only-of-type {\n",
       "        vertical-align: middle;\n",
       "    }\n",
       "\n",
       "    .dataframe tbody tr th {\n",
       "        vertical-align: top;\n",
       "    }\n",
       "\n",
       "    .dataframe thead th {\n",
       "        text-align: right;\n",
       "    }\n",
       "</style>\n",
       "<table border=\"1\" class=\"dataframe\">\n",
       "  <thead>\n",
       "    <tr style=\"text-align: right;\">\n",
       "      <th></th>\n",
       "      <th>Locality</th>\n",
       "      <th>Close_Date</th>\n",
       "      <th>ClosePrice</th>\n",
       "      <th>Acreage</th>\n",
       "      <th>ArchitectureLevel</th>\n",
       "      <th>BasementType</th>\n",
       "      <th>Basement_YN</th>\n",
       "      <th>Baths_Full</th>\n",
       "      <th>Baths_Half</th>\n",
       "      <th>Beds_Total</th>\n",
       "      <th>...</th>\n",
       "      <th>Garage_YN</th>\n",
       "      <th>Out_Buildings</th>\n",
       "      <th>Ownership</th>\n",
       "      <th>Pool_YN</th>\n",
       "      <th>Seller_Concession_Amount</th>\n",
       "      <th>Seller_Concession_YN</th>\n",
       "      <th>Water_Frontage_Feet</th>\n",
       "      <th>Waterfront_YN</th>\n",
       "      <th>Year_Built</th>\n",
       "      <th>Year_Remodeled</th>\n",
       "    </tr>\n",
       "  </thead>\n",
       "  <tbody>\n",
       "    <tr>\n",
       "      <th>3019</th>\n",
       "      <td>Macomb</td>\n",
       "      <td>7/17/2020</td>\n",
       "      <td>692559.0</td>\n",
       "      <td>0.00</td>\n",
       "      <td>1 Story</td>\n",
       "      <td>Daylight</td>\n",
       "      <td>True</td>\n",
       "      <td>2</td>\n",
       "      <td>1</td>\n",
       "      <td>3</td>\n",
       "      <td>...</td>\n",
       "      <td>True</td>\n",
       "      <td>NaN</td>\n",
       "      <td>Private - Owned</td>\n",
       "      <td>False</td>\n",
       "      <td>NaN</td>\n",
       "      <td>False</td>\n",
       "      <td>NaN</td>\n",
       "      <td>False</td>\n",
       "      <td>2019</td>\n",
       "      <td>NaN</td>\n",
       "    </tr>\n",
       "    <tr>\n",
       "      <th>3020</th>\n",
       "      <td>Macomb</td>\n",
       "      <td>7/20/2020</td>\n",
       "      <td>360000.0</td>\n",
       "      <td>0.19</td>\n",
       "      <td>1 Story</td>\n",
       "      <td>Unfinished</td>\n",
       "      <td>True</td>\n",
       "      <td>2</td>\n",
       "      <td>1</td>\n",
       "      <td>3</td>\n",
       "      <td>...</td>\n",
       "      <td>True</td>\n",
       "      <td>NaN</td>\n",
       "      <td>Private - Owned</td>\n",
       "      <td>False</td>\n",
       "      <td>NaN</td>\n",
       "      <td>False</td>\n",
       "      <td>NaN</td>\n",
       "      <td>False</td>\n",
       "      <td>1997</td>\n",
       "      <td>2020.0</td>\n",
       "    </tr>\n",
       "    <tr>\n",
       "      <th>3021</th>\n",
       "      <td>Macomb</td>\n",
       "      <td>7/20/2020</td>\n",
       "      <td>375000.0</td>\n",
       "      <td>0.19</td>\n",
       "      <td>1 Story</td>\n",
       "      <td>Daylight, Partially Finished</td>\n",
       "      <td>True</td>\n",
       "      <td>2</td>\n",
       "      <td>1</td>\n",
       "      <td>3</td>\n",
       "      <td>...</td>\n",
       "      <td>True</td>\n",
       "      <td>NaN</td>\n",
       "      <td>Private - Owned</td>\n",
       "      <td>False</td>\n",
       "      <td>5000.0</td>\n",
       "      <td>True</td>\n",
       "      <td>NaN</td>\n",
       "      <td>False</td>\n",
       "      <td>2019</td>\n",
       "      <td>NaN</td>\n",
       "    </tr>\n",
       "    <tr>\n",
       "      <th>3022</th>\n",
       "      <td>Macomb</td>\n",
       "      <td>7/20/2020</td>\n",
       "      <td>390000.0</td>\n",
       "      <td>0.23</td>\n",
       "      <td>1 Story</td>\n",
       "      <td>Daylight, Partially Finished</td>\n",
       "      <td>True</td>\n",
       "      <td>2</td>\n",
       "      <td>1</td>\n",
       "      <td>3</td>\n",
       "      <td>...</td>\n",
       "      <td>True</td>\n",
       "      <td>NaN</td>\n",
       "      <td>Private - Owned</td>\n",
       "      <td>False</td>\n",
       "      <td>NaN</td>\n",
       "      <td>False</td>\n",
       "      <td>NaN</td>\n",
       "      <td>False</td>\n",
       "      <td>2019</td>\n",
       "      <td>NaN</td>\n",
       "    </tr>\n",
       "    <tr>\n",
       "      <th>3023</th>\n",
       "      <td>Macomb</td>\n",
       "      <td>7/21/2020</td>\n",
       "      <td>320000.0</td>\n",
       "      <td>0.93</td>\n",
       "      <td>1 Story</td>\n",
       "      <td>NaN</td>\n",
       "      <td>True</td>\n",
       "      <td>2</td>\n",
       "      <td>1</td>\n",
       "      <td>3</td>\n",
       "      <td>...</td>\n",
       "      <td>True</td>\n",
       "      <td>NaN</td>\n",
       "      <td>Private - Owned</td>\n",
       "      <td>False</td>\n",
       "      <td>NaN</td>\n",
       "      <td>False</td>\n",
       "      <td>NaN</td>\n",
       "      <td>False</td>\n",
       "      <td>1958</td>\n",
       "      <td>NaN</td>\n",
       "    </tr>\n",
       "  </tbody>\n",
       "</table>\n",
       "<p>5 rows × 22 columns</p>\n",
       "</div>"
      ],
      "text/plain": [
       "     Locality Close_Date  ClosePrice  Acreage ArchitectureLevel  \\\n",
       "3019   Macomb  7/17/2020    692559.0     0.00           1 Story   \n",
       "3020   Macomb  7/20/2020    360000.0     0.19           1 Story   \n",
       "3021   Macomb  7/20/2020    375000.0     0.19           1 Story   \n",
       "3022   Macomb  7/20/2020    390000.0     0.23           1 Story   \n",
       "3023   Macomb  7/21/2020    320000.0     0.93           1 Story   \n",
       "\n",
       "                      BasementType  Basement_YN  Baths_Full  Baths_Half  \\\n",
       "3019                      Daylight         True           2           1   \n",
       "3020                    Unfinished         True           2           1   \n",
       "3021  Daylight, Partially Finished         True           2           1   \n",
       "3022  Daylight, Partially Finished         True           2           1   \n",
       "3023                           NaN         True           2           1   \n",
       "\n",
       "      Beds_Total  ...  Garage_YN Out_Buildings        Ownership Pool_YN  \\\n",
       "3019           3  ...       True           NaN  Private - Owned   False   \n",
       "3020           3  ...       True           NaN  Private - Owned   False   \n",
       "3021           3  ...       True           NaN  Private - Owned   False   \n",
       "3022           3  ...       True           NaN  Private - Owned   False   \n",
       "3023           3  ...       True           NaN  Private - Owned   False   \n",
       "\n",
       "     Seller_Concession_Amount  Seller_Concession_YN  Water_Frontage_Feet  \\\n",
       "3019                      NaN                 False                  NaN   \n",
       "3020                      NaN                 False                  NaN   \n",
       "3021                   5000.0                  True                  NaN   \n",
       "3022                      NaN                 False                  NaN   \n",
       "3023                      NaN                 False                  NaN   \n",
       "\n",
       "     Waterfront_YN  Year_Built  Year_Remodeled  \n",
       "3019         False        2019             NaN  \n",
       "3020         False        1997          2020.0  \n",
       "3021         False        2019             NaN  \n",
       "3022         False        2019             NaN  \n",
       "3023         False        1958             NaN  \n",
       "\n",
       "[5 rows x 22 columns]"
      ]
     },
     "execution_count": 10,
     "metadata": {},
     "output_type": "execute_result"
    }
   ],
   "source": [
    "realestate2.tail()"
   ]
  },
  {
   "cell_type": "code",
   "execution_count": 12,
   "metadata": {},
   "outputs": [
    {
     "data": {
      "text/plain": [
       "Locality\n",
       "Brick Ranch    1781\n",
       "Macomb         1243\n",
       "Name: Locality, dtype: int64"
      ]
     },
     "execution_count": 12,
     "metadata": {},
     "output_type": "execute_result"
    }
   ],
   "source": [
    "# Count of rows by locality\n",
    "\n",
    "realestate2.groupby('Locality')['Locality'].count()"
   ]
  },
  {
   "cell_type": "code",
   "execution_count": 13,
   "metadata": {},
   "outputs": [
    {
     "data": {
      "text/plain": [
       "<matplotlib.axes._subplots.AxesSubplot at 0x16183beb508>"
      ]
     },
     "execution_count": 13,
     "metadata": {},
     "output_type": "execute_result"
    },
    {
     "data": {
      "image/png": "[encoded data removed]",
      "text/plain": [
       "<Figure size 432x288 with 1 Axes>"
      ]
     },
     "metadata": {
      "needs_background": "light"
     },
     "output_type": "display_data"
    }
   ],
   "source": [
    "# Range Statistics for Closing Prices - by Locality\n",
    "realestate2.boxplot(by ='Locality', column =['ClosePrice'], grid = False) "
   ]
  },
  {
   "cell_type": "markdown",
   "metadata": {},
   "source": [
    "Property price range is significantly different for each of these two localities. So, we will proceed to perform the analysis separately."
   ]
  },
  {
   "cell_type": "code",
   "execution_count": 150,
   "metadata": {},
   "outputs": [
    {
     "data": {
      "text/plain": [
       "1781"
      ]
     },
     "execution_count": 150,
     "metadata": {},
     "output_type": "execute_result"
    }
   ],
   "source": [
    "brick_ranch_df = realestate2.loc[realestate2['Locality']=='Brick Ranch']\n",
    "len(brick_ranch_df)"
   ]
  },
  {
   "cell_type": "markdown",
   "metadata": {},
   "source": [
    "## Missing Values"
   ]
  },
  {
   "cell_type": "code",
   "execution_count": 88,
   "metadata": {},
   "outputs": [
    {
     "name": "stdout",
     "output_type": "stream",
     "text": [
      "Your selected dataframe has 22 columns.\n",
      "There are 4 columns that have missing values.\n"
     ]
    },
    {
     "data": {
      "text/html": [
       "<div>\n",
       "<style scoped>\n",
       "    .dataframe tbody tr th:only-of-type {\n",
       "        vertical-align: middle;\n",
       "    }\n",
       "\n",
       "    .dataframe tbody tr th {\n",
       "        vertical-align: top;\n",
       "    }\n",
       "\n",
       "    .dataframe thead th {\n",
       "        text-align: right;\n",
       "    }\n",
       "</style>\n",
       "<table border=\"1\" class=\"dataframe\">\n",
       "  <thead>\n",
       "    <tr style=\"text-align: right;\">\n",
       "      <th></th>\n",
       "      <th>Missing Values</th>\n",
       "      <th>% of Total Values</th>\n",
       "    </tr>\n",
       "  </thead>\n",
       "  <tbody>\n",
       "    <tr>\n",
       "      <th>Water_Frontage_Feet</th>\n",
       "      <td>1781</td>\n",
       "      <td>100.0</td>\n",
       "    </tr>\n",
       "    <tr>\n",
       "      <th>Out_Buildings</th>\n",
       "      <td>1545</td>\n",
       "      <td>86.7</td>\n",
       "    </tr>\n",
       "    <tr>\n",
       "      <th>Year_Remodeled</th>\n",
       "      <td>1509</td>\n",
       "      <td>84.7</td>\n",
       "    </tr>\n",
       "    <tr>\n",
       "      <th>Seller_Concession_Amount</th>\n",
       "      <td>1290</td>\n",
       "      <td>72.4</td>\n",
       "    </tr>\n",
       "  </tbody>\n",
       "</table>\n",
       "</div>"
      ],
      "text/plain": [
       "                          Missing Values  % of Total Values\n",
       "Water_Frontage_Feet                 1781              100.0\n",
       "Out_Buildings                       1545               86.7\n",
       "Year_Remodeled                      1509               84.7\n",
       "Seller_Concession_Amount            1290               72.4"
      ]
     },
     "execution_count": 88,
     "metadata": {},
     "output_type": "execute_result"
    }
   ],
   "source": [
    "# Check if missing values\n",
    "def missing_values_table(df):\n",
    "        mis_val = df.isnull().sum()\n",
    "        mis_val_percent = 100 * df.isnull().sum() / len(df)\n",
    "        mis_val_table = pd.concat([mis_val, mis_val_percent], axis=1)\n",
    "        mis_val_table_ren_columns = mis_val_table.rename(\n",
    "        columns = {0 : 'Missing Values', 1 : '% of Total Values'})\n",
    "        mis_val_table_ren_columns = mis_val_table_ren_columns[\n",
    "            mis_val_table_ren_columns.iloc[:,1] != 0].sort_values(\n",
    "        '% of Total Values', ascending=False).round(1)\n",
    "        print (\"Your selected dataframe has \" + str(df.shape[1]) + \" columns.\\n\"      \n",
    "            \"There are \" + str(mis_val_table_ren_columns.shape[0]) +\n",
    "              \" columns that have missing values.\")\n",
    "        return mis_val_table_ren_columns\n",
    "# source: https://stackoverflow.com/questions/26266362/how-to-count-the-nan-values-in-a-column-in-pandas-dataframe\n",
    "\n",
    "missing_values_table(brick_ranch_df)"
   ]
  },
  {
   "cell_type": "code",
   "execution_count": 270,
   "metadata": {},
   "outputs": [],
   "source": [
    "# Missing Value Treatment\n",
    "brick_ranch_df['BasementType'].fillna(('NA'), inplace=True)\n",
    "brick_ranch_df['Garage_Size'].fillna(('NA'), inplace=True)\n",
    "brick_ranch_df['Seller_Concession_YN'].fillna((False), inplace=True)"
   ]
  },
  {
   "cell_type": "markdown",
   "metadata": {},
   "source": [
    "## Analytics Feature Type \n",
    "\n",
    "We need to understand feature type to perform relevant analysis."
   ]
  },
  {
   "cell_type": "code",
   "execution_count": 156,
   "metadata": {},
   "outputs": [
    {
     "data": {
      "text/html": [
       "<div>\n",
       "<style scoped>\n",
       "    .dataframe tbody tr th:only-of-type {\n",
       "        vertical-align: middle;\n",
       "    }\n",
       "\n",
       "    .dataframe tbody tr th {\n",
       "        vertical-align: top;\n",
       "    }\n",
       "\n",
       "    .dataframe thead th {\n",
       "        text-align: right;\n",
       "    }\n",
       "</style>\n",
       "<table border=\"1\" class=\"dataframe\">\n",
       "  <thead>\n",
       "    <tr style=\"text-align: right;\">\n",
       "      <th></th>\n",
       "      <th>Feature</th>\n",
       "      <th>BaseFeatureType</th>\n",
       "      <th>AnalysisFeatureType</th>\n",
       "    </tr>\n",
       "  </thead>\n",
       "  <tbody>\n",
       "    <tr>\n",
       "      <th>0</th>\n",
       "      <td>Locality</td>\n",
       "      <td>Category-Unary</td>\n",
       "      <td>Unary</td>\n",
       "    </tr>\n",
       "    <tr>\n",
       "      <th>1</th>\n",
       "      <td>Close_Date</td>\n",
       "      <td>Nominal</td>\n",
       "      <td>Categorical-Nominal</td>\n",
       "    </tr>\n",
       "    <tr>\n",
       "      <th>2</th>\n",
       "      <td>ClosePrice</td>\n",
       "      <td>Continuous</td>\n",
       "      <td>Continuous</td>\n",
       "    </tr>\n",
       "    <tr>\n",
       "      <th>3</th>\n",
       "      <td>Acreage</td>\n",
       "      <td>Continuous</td>\n",
       "      <td>Continuous</td>\n",
       "    </tr>\n",
       "    <tr>\n",
       "      <th>4</th>\n",
       "      <td>ArchitectureLevel</td>\n",
       "      <td>Category-Unary</td>\n",
       "      <td>Unary</td>\n",
       "    </tr>\n",
       "    <tr>\n",
       "      <th>5</th>\n",
       "      <td>BasementType</td>\n",
       "      <td>Nominal</td>\n",
       "      <td>Categorical-Nominal</td>\n",
       "    </tr>\n",
       "    <tr>\n",
       "      <th>6</th>\n",
       "      <td>Basement_YN</td>\n",
       "      <td>Binary</td>\n",
       "      <td>Binary</td>\n",
       "    </tr>\n",
       "    <tr>\n",
       "      <th>7</th>\n",
       "      <td>Baths_Full</td>\n",
       "      <td>Ordinal</td>\n",
       "      <td>Continuous-Ordinal</td>\n",
       "    </tr>\n",
       "    <tr>\n",
       "      <th>8</th>\n",
       "      <td>Baths_Half</td>\n",
       "      <td>Ordinal</td>\n",
       "      <td>Continuous-Ordinal</td>\n",
       "    </tr>\n",
       "    <tr>\n",
       "      <th>9</th>\n",
       "      <td>Beds_Total</td>\n",
       "      <td>Ordinal</td>\n",
       "      <td>Continuous-Ordinal</td>\n",
       "    </tr>\n",
       "    <tr>\n",
       "      <th>10</th>\n",
       "      <td>Est_Fin_Abv_Grd_SqFt</td>\n",
       "      <td>Continuous</td>\n",
       "      <td>Continuous</td>\n",
       "    </tr>\n",
       "    <tr>\n",
       "      <th>11</th>\n",
       "      <td>Garage_Size</td>\n",
       "      <td>Nominal</td>\n",
       "      <td>Categorical-Nominal</td>\n",
       "    </tr>\n",
       "    <tr>\n",
       "      <th>12</th>\n",
       "      <td>Garage_YN</td>\n",
       "      <td>Binary</td>\n",
       "      <td>Binary</td>\n",
       "    </tr>\n",
       "    <tr>\n",
       "      <th>13</th>\n",
       "      <td>Out_Buildings</td>\n",
       "      <td>Nominal</td>\n",
       "      <td>Categorical-Nominal</td>\n",
       "    </tr>\n",
       "    <tr>\n",
       "      <th>14</th>\n",
       "      <td>Ownership</td>\n",
       "      <td>Nominal</td>\n",
       "      <td>Categorical-Nominal</td>\n",
       "    </tr>\n",
       "    <tr>\n",
       "      <th>15</th>\n",
       "      <td>Pool_YN</td>\n",
       "      <td>Binary</td>\n",
       "      <td>Binary</td>\n",
       "    </tr>\n",
       "    <tr>\n",
       "      <th>16</th>\n",
       "      <td>Seller_Concession_Amount</td>\n",
       "      <td>Ordinal</td>\n",
       "      <td>Continuous-Ordinal</td>\n",
       "    </tr>\n",
       "    <tr>\n",
       "      <th>17</th>\n",
       "      <td>Seller_Concession_YN</td>\n",
       "      <td>Binary</td>\n",
       "      <td>Binary</td>\n",
       "    </tr>\n",
       "    <tr>\n",
       "      <th>18</th>\n",
       "      <td>Water_Frontage_Feet</td>\n",
       "      <td>Ordinal</td>\n",
       "      <td>Continuous-Ordinal</td>\n",
       "    </tr>\n",
       "    <tr>\n",
       "      <th>19</th>\n",
       "      <td>Waterfront_YN</td>\n",
       "      <td>Binary</td>\n",
       "      <td>Binary</td>\n",
       "    </tr>\n",
       "    <tr>\n",
       "      <th>20</th>\n",
       "      <td>Year_Built</td>\n",
       "      <td>Continuous</td>\n",
       "      <td>Continuous</td>\n",
       "    </tr>\n",
       "    <tr>\n",
       "      <th>21</th>\n",
       "      <td>Year_Remodeled</td>\n",
       "      <td>Ordinal</td>\n",
       "      <td>Continuous-Ordinal</td>\n",
       "    </tr>\n",
       "    <tr>\n",
       "      <th>22</th>\n",
       "      <td>BasementType_1</td>\n",
       "      <td>Category-Binary</td>\n",
       "      <td>Binary</td>\n",
       "    </tr>\n",
       "  </tbody>\n",
       "</table>\n",
       "</div>"
      ],
      "text/plain": [
       "                     Feature  BaseFeatureType  AnalysisFeatureType\n",
       "0                   Locality   Category-Unary                Unary\n",
       "1                 Close_Date          Nominal  Categorical-Nominal\n",
       "2                 ClosePrice       Continuous           Continuous\n",
       "3                    Acreage       Continuous           Continuous\n",
       "4          ArchitectureLevel   Category-Unary                Unary\n",
       "5               BasementType          Nominal  Categorical-Nominal\n",
       "6                Basement_YN           Binary               Binary\n",
       "7                 Baths_Full          Ordinal   Continuous-Ordinal\n",
       "8                 Baths_Half          Ordinal   Continuous-Ordinal\n",
       "9                 Beds_Total          Ordinal   Continuous-Ordinal\n",
       "10      Est_Fin_Abv_Grd_SqFt       Continuous           Continuous\n",
       "11               Garage_Size          Nominal  Categorical-Nominal\n",
       "12                 Garage_YN           Binary               Binary\n",
       "13             Out_Buildings          Nominal  Categorical-Nominal\n",
       "14                 Ownership          Nominal  Categorical-Nominal\n",
       "15                   Pool_YN           Binary               Binary\n",
       "16  Seller_Concession_Amount          Ordinal   Continuous-Ordinal\n",
       "17      Seller_Concession_YN           Binary               Binary\n",
       "18       Water_Frontage_Feet          Ordinal   Continuous-Ordinal\n",
       "19             Waterfront_YN           Binary               Binary\n",
       "20                Year_Built       Continuous           Continuous\n",
       "21            Year_Remodeled          Ordinal   Continuous-Ordinal\n",
       "22            BasementType_1  Category-Binary               Binary"
      ]
     },
     "execution_count": 156,
     "metadata": {},
     "output_type": "execute_result"
    }
   ],
   "source": [
    "# Find Continuous and Categorical Features\n",
    "def featureType(df):\n",
    "    import numpy as np \n",
    "    from pandas.api.types import is_numeric_dtype\n",
    "\n",
    "    columns = df.columns\n",
    "    rows= len(df)\n",
    "    colTypeBase=[]\n",
    "    colType=[]\n",
    "    for col in columns:\n",
    "        try:\n",
    "            try:\n",
    "                uniq=len(np.unique(df[col]))\n",
    "            except:\n",
    "                 uniq=len(df.groupby(col)[col].count())\n",
    "            if rows>10:\n",
    "                if is_numeric_dtype(df[col]):\n",
    "                    \n",
    "                    if uniq==1:\n",
    "                        colType.append('Unary')\n",
    "                        colTypeBase.append('Unary')\n",
    "                    elif uniq==2:\n",
    "                        colType.append('Binary')\n",
    "                        colTypeBase.append('Binary')\n",
    "                    elif rows/uniq>3 and uniq>5:\n",
    "                        colType.append('Continuous')\n",
    "                        colTypeBase.append('Continuous')\n",
    "                    else:\n",
    "                        colType.append('Continuous-Ordinal')\n",
    "                        colTypeBase.append('Ordinal')\n",
    "                else:\n",
    "                    if uniq==1:\n",
    "                        colType.append('Unary')\n",
    "                        colTypeBase.append('Category-Unary')\n",
    "                    elif uniq==2:\n",
    "                        colType.append('Binary')\n",
    "                        colTypeBase.append('Category-Binary')\n",
    "                    else:\n",
    "                        colType.append('Categorical-Nominal')\n",
    "                        colTypeBase.append('Nominal')\n",
    "            else:\n",
    "                if is_numeric_dtype(df[col]):\n",
    "                    colType.append('Numeric')\n",
    "                    colTypeBase.append('Numeric')\n",
    "                else:\n",
    "                    colType.append('Non-numeric')\n",
    "                    colTypeBase.append('Non-numeric')\n",
    "        except:\n",
    "            colType.append('Issue')\n",
    "                \n",
    "    # Create dataframe    \n",
    "    df_out =pd.DataFrame({'Feature':columns,\n",
    "                          'BaseFeatureType':colTypeBase,\n",
    "                        'AnalysisFeatureType':colType})\n",
    "    return df_out\n",
    "featureType(brick_ranch_df)    "
   ]
  },
  {
   "cell_type": "markdown",
   "metadata": {},
   "source": [
    "## Analysis - Categorical Features "
   ]
  },
  {
   "cell_type": "code",
   "execution_count": 89,
   "metadata": {},
   "outputs": [
    {
     "data": {
      "text/plain": [
       "Index(['Locality', 'Close_Date', 'ClosePrice', 'Acreage', 'ArchitectureLevel',\n",
       "       'BasementType', 'Basement_YN', 'Baths_Full', 'Baths_Half', 'Beds_Total',\n",
       "       'Est_Fin_Abv_Grd_SqFt', 'Garage_Size', 'Garage_YN', 'Out_Buildings',\n",
       "       'Ownership', 'Pool_YN', 'Seller_Concession_Amount',\n",
       "       'Seller_Concession_YN', 'Water_Frontage_Feet', 'Waterfront_YN',\n",
       "       'Year_Built', 'Year_Remodeled'],\n",
       "      dtype='object')"
      ]
     },
     "execution_count": 89,
     "metadata": {},
     "output_type": "execute_result"
    }
   ],
   "source": [
    "brick_ranch_df.columns"
   ]
  },
  {
   "cell_type": "code",
   "execution_count": null,
   "metadata": {},
   "outputs": [],
   "source": [
    "# Level Grouping for Categorical Variables\n",
    "# Condesnse levels: if levels are more than 5, combine others into the top 5 based on nearest value of Target Variable & create a new variable\n"
   ]
  },
  {
   "cell_type": "code",
   "execution_count": 139,
   "metadata": {},
   "outputs": [
    {
     "data": {
      "text/plain": [
       "168994.12862998317"
      ]
     },
     "execution_count": 139,
     "metadata": {},
     "output_type": "execute_result"
    }
   ],
   "source": [
    "# Overall statistics for Closed Price\n",
    "brick_ranch_df['ClosePrice'].mean()"
   ]
  },
  {
   "cell_type": "markdown",
   "metadata": {},
   "source": [
    "### Summary Statistics"
   ]
  },
  {
   "cell_type": "code",
   "execution_count": 136,
   "metadata": {},
   "outputs": [
    {
     "data": {
      "text/html": [
       "<div>\n",
       "<style scoped>\n",
       "    .dataframe tbody tr th:only-of-type {\n",
       "        vertical-align: middle;\n",
       "    }\n",
       "\n",
       "    .dataframe tbody tr th {\n",
       "        vertical-align: top;\n",
       "    }\n",
       "\n",
       "    .dataframe thead th {\n",
       "        text-align: right;\n",
       "    }\n",
       "</style>\n",
       "<table border=\"1\" class=\"dataframe\">\n",
       "  <thead>\n",
       "    <tr style=\"text-align: right;\">\n",
       "      <th></th>\n",
       "      <th>BasementType</th>\n",
       "      <th>counts</th>\n",
       "      <th>percent</th>\n",
       "      <th>min_LabelVar</th>\n",
       "      <th>max_LabelVar</th>\n",
       "      <th>mean_LabelVar</th>\n",
       "      <th>median_LabelVar</th>\n",
       "    </tr>\n",
       "  </thead>\n",
       "  <tbody>\n",
       "    <tr>\n",
       "      <th>6</th>\n",
       "      <td>Finished</td>\n",
       "      <td>749.0</td>\n",
       "      <td>42.055025</td>\n",
       "      <td>98000.0</td>\n",
       "      <td>275000.0</td>\n",
       "      <td>173082.882630</td>\n",
       "      <td>169900.0</td>\n",
       "    </tr>\n",
       "    <tr>\n",
       "      <th>15</th>\n",
       "      <td>Partially Finished</td>\n",
       "      <td>421.0</td>\n",
       "      <td>23.638405</td>\n",
       "      <td>60000.0</td>\n",
       "      <td>240000.0</td>\n",
       "      <td>167077.154394</td>\n",
       "      <td>165000.0</td>\n",
       "    </tr>\n",
       "    <tr>\n",
       "      <th>14</th>\n",
       "      <td>NA</td>\n",
       "      <td>312.0</td>\n",
       "      <td>17.518248</td>\n",
       "      <td>66000.0</td>\n",
       "      <td>250000.0</td>\n",
       "      <td>163820.852564</td>\n",
       "      <td>164000.0</td>\n",
       "    </tr>\n",
       "    <tr>\n",
       "      <th>19</th>\n",
       "      <td>Unfinished</td>\n",
       "      <td>229.0</td>\n",
       "      <td>12.857945</td>\n",
       "      <td>75000.0</td>\n",
       "      <td>275000.0</td>\n",
       "      <td>165451.205240</td>\n",
       "      <td>165000.0</td>\n",
       "    </tr>\n",
       "    <tr>\n",
       "      <th>7</th>\n",
       "      <td>Finished, Interior Access Only</td>\n",
       "      <td>14.0</td>\n",
       "      <td>0.786075</td>\n",
       "      <td>133650.0</td>\n",
       "      <td>219500.0</td>\n",
       "      <td>173239.285714</td>\n",
       "      <td>167450.0</td>\n",
       "    </tr>\n",
       "    <tr>\n",
       "      <th>13</th>\n",
       "      <td>Interior Access Only, Unfinished</td>\n",
       "      <td>8.0</td>\n",
       "      <td>0.449186</td>\n",
       "      <td>118000.0</td>\n",
       "      <td>240000.0</td>\n",
       "      <td>179300.000000</td>\n",
       "      <td>166250.0</td>\n",
       "    </tr>\n",
       "    <tr>\n",
       "      <th>12</th>\n",
       "      <td>Interior Access Only, Partially Finished</td>\n",
       "      <td>8.0</td>\n",
       "      <td>0.449186</td>\n",
       "      <td>150000.0</td>\n",
       "      <td>179900.0</td>\n",
       "      <td>166737.500000</td>\n",
       "      <td>169500.0</td>\n",
       "    </tr>\n",
       "    <tr>\n",
       "      <th>9</th>\n",
       "      <td>Finished, Partially Finished</td>\n",
       "      <td>8.0</td>\n",
       "      <td>0.449186</td>\n",
       "      <td>130000.0</td>\n",
       "      <td>186000.0</td>\n",
       "      <td>165875.000000</td>\n",
       "      <td>172500.0</td>\n",
       "    </tr>\n",
       "    <tr>\n",
       "      <th>1</th>\n",
       "      <td>Daylight, Finished</td>\n",
       "      <td>6.0</td>\n",
       "      <td>0.336889</td>\n",
       "      <td>163000.0</td>\n",
       "      <td>227900.0</td>\n",
       "      <td>191066.666667</td>\n",
       "      <td>189000.0</td>\n",
       "    </tr>\n",
       "    <tr>\n",
       "      <th>11</th>\n",
       "      <td>Interior Access Only</td>\n",
       "      <td>4.0</td>\n",
       "      <td>0.224593</td>\n",
       "      <td>120000.0</td>\n",
       "      <td>178000.0</td>\n",
       "      <td>153125.000000</td>\n",
       "      <td>157250.0</td>\n",
       "    </tr>\n",
       "    <tr>\n",
       "      <th>16</th>\n",
       "      <td>Partially Finished, Unfinished</td>\n",
       "      <td>4.0</td>\n",
       "      <td>0.224593</td>\n",
       "      <td>150000.0</td>\n",
       "      <td>160000.0</td>\n",
       "      <td>155250.000000</td>\n",
       "      <td>155500.0</td>\n",
       "    </tr>\n",
       "    <tr>\n",
       "      <th>0</th>\n",
       "      <td>Daylight</td>\n",
       "      <td>4.0</td>\n",
       "      <td>0.224593</td>\n",
       "      <td>131900.0</td>\n",
       "      <td>175000.0</td>\n",
       "      <td>152725.000000</td>\n",
       "      <td>152000.0</td>\n",
       "    </tr>\n",
       "    <tr>\n",
       "      <th>4</th>\n",
       "      <td>Daylight, Partially Finished</td>\n",
       "      <td>4.0</td>\n",
       "      <td>0.224593</td>\n",
       "      <td>150000.0</td>\n",
       "      <td>220000.0</td>\n",
       "      <td>177125.000000</td>\n",
       "      <td>169250.0</td>\n",
       "    </tr>\n",
       "    <tr>\n",
       "      <th>10</th>\n",
       "      <td>Finished, Partially Finished, Unfinished</td>\n",
       "      <td>3.0</td>\n",
       "      <td>0.168445</td>\n",
       "      <td>136000.0</td>\n",
       "      <td>210000.0</td>\n",
       "      <td>162666.666667</td>\n",
       "      <td>142000.0</td>\n",
       "    </tr>\n",
       "    <tr>\n",
       "      <th>3</th>\n",
       "      <td>Daylight, Interior Access Only</td>\n",
       "      <td>2.0</td>\n",
       "      <td>0.112296</td>\n",
       "      <td>149700.0</td>\n",
       "      <td>245000.0</td>\n",
       "      <td>197350.000000</td>\n",
       "      <td>197350.0</td>\n",
       "    </tr>\n",
       "    <tr>\n",
       "      <th>8</th>\n",
       "      <td>Finished, Interior Access Only, Partially Fini...</td>\n",
       "      <td>1.0</td>\n",
       "      <td>0.056148</td>\n",
       "      <td>127900.0</td>\n",
       "      <td>127900.0</td>\n",
       "      <td>127900.000000</td>\n",
       "      <td>127900.0</td>\n",
       "    </tr>\n",
       "    <tr>\n",
       "      <th>5</th>\n",
       "      <td>Daylight, Unfinished</td>\n",
       "      <td>1.0</td>\n",
       "      <td>0.056148</td>\n",
       "      <td>161000.0</td>\n",
       "      <td>161000.0</td>\n",
       "      <td>161000.000000</td>\n",
       "      <td>161000.0</td>\n",
       "    </tr>\n",
       "    <tr>\n",
       "      <th>2</th>\n",
       "      <td>Daylight, Finished, Interior Access Only</td>\n",
       "      <td>1.0</td>\n",
       "      <td>0.056148</td>\n",
       "      <td>222000.0</td>\n",
       "      <td>222000.0</td>\n",
       "      <td>222000.000000</td>\n",
       "      <td>222000.0</td>\n",
       "    </tr>\n",
       "    <tr>\n",
       "      <th>17</th>\n",
       "      <td>Partially Finished, Walk-Up Access</td>\n",
       "      <td>1.0</td>\n",
       "      <td>0.056148</td>\n",
       "      <td>176000.0</td>\n",
       "      <td>176000.0</td>\n",
       "      <td>176000.000000</td>\n",
       "      <td>176000.0</td>\n",
       "    </tr>\n",
       "    <tr>\n",
       "      <th>18</th>\n",
       "      <td>Partially Finished, Walkout Access</td>\n",
       "      <td>1.0</td>\n",
       "      <td>0.056148</td>\n",
       "      <td>210000.0</td>\n",
       "      <td>210000.0</td>\n",
       "      <td>210000.000000</td>\n",
       "      <td>210000.0</td>\n",
       "    </tr>\n",
       "  </tbody>\n",
       "</table>\n",
       "</div>"
      ],
      "text/plain": [
       "                                         BasementType  counts    percent  \\\n",
       "6                                            Finished   749.0  42.055025   \n",
       "15                                 Partially Finished   421.0  23.638405   \n",
       "14                                                 NA   312.0  17.518248   \n",
       "19                                         Unfinished   229.0  12.857945   \n",
       "7                      Finished, Interior Access Only    14.0   0.786075   \n",
       "13                   Interior Access Only, Unfinished     8.0   0.449186   \n",
       "12           Interior Access Only, Partially Finished     8.0   0.449186   \n",
       "9                        Finished, Partially Finished     8.0   0.449186   \n",
       "1                                  Daylight, Finished     6.0   0.336889   \n",
       "11                               Interior Access Only     4.0   0.224593   \n",
       "16                     Partially Finished, Unfinished     4.0   0.224593   \n",
       "0                                            Daylight     4.0   0.224593   \n",
       "4                        Daylight, Partially Finished     4.0   0.224593   \n",
       "10           Finished, Partially Finished, Unfinished     3.0   0.168445   \n",
       "3                      Daylight, Interior Access Only     2.0   0.112296   \n",
       "8   Finished, Interior Access Only, Partially Fini...     1.0   0.056148   \n",
       "5                                Daylight, Unfinished     1.0   0.056148   \n",
       "2            Daylight, Finished, Interior Access Only     1.0   0.056148   \n",
       "17                 Partially Finished, Walk-Up Access     1.0   0.056148   \n",
       "18                 Partially Finished, Walkout Access     1.0   0.056148   \n",
       "\n",
       "    min_LabelVar  max_LabelVar  mean_LabelVar  median_LabelVar  \n",
       "6        98000.0      275000.0  173082.882630         169900.0  \n",
       "15       60000.0      240000.0  167077.154394         165000.0  \n",
       "14       66000.0      250000.0  163820.852564         164000.0  \n",
       "19       75000.0      275000.0  165451.205240         165000.0  \n",
       "7       133650.0      219500.0  173239.285714         167450.0  \n",
       "13      118000.0      240000.0  179300.000000         166250.0  \n",
       "12      150000.0      179900.0  166737.500000         169500.0  \n",
       "9       130000.0      186000.0  165875.000000         172500.0  \n",
       "1       163000.0      227900.0  191066.666667         189000.0  \n",
       "11      120000.0      178000.0  153125.000000         157250.0  \n",
       "16      150000.0      160000.0  155250.000000         155500.0  \n",
       "0       131900.0      175000.0  152725.000000         152000.0  \n",
       "4       150000.0      220000.0  177125.000000         169250.0  \n",
       "10      136000.0      210000.0  162666.666667         142000.0  \n",
       "3       149700.0      245000.0  197350.000000         197350.0  \n",
       "8       127900.0      127900.0  127900.000000         127900.0  \n",
       "5       161000.0      161000.0  161000.000000         161000.0  \n",
       "2       222000.0      222000.0  222000.000000         222000.0  \n",
       "17      176000.0      176000.0  176000.000000         176000.0  \n",
       "18      210000.0      210000.0  210000.000000         210000.0  "
      ]
     },
     "execution_count": 136,
     "metadata": {},
     "output_type": "execute_result"
    }
   ],
   "source": [
    "def catVarStats(df, feature, label):    \n",
    "    import numpy as np\n",
    "    out_df =df.groupby(feature).agg(\n",
    "    # Counts\n",
    "    counts=(label, lambda x: len(x) ),\n",
    "    # Percent\n",
    "    percent = (label, lambda x: (len(x)*100/ len(df[label]))),\n",
    "    # Min\n",
    "    min_LabelVar=(label, min),\n",
    "        # Max\n",
    "    max_LabelVar=(label, max),\n",
    "    # Mean\n",
    "    mean_LabelVar=(label, np.mean),\n",
    "    # Median\n",
    "    median_LabelVar=(label, np.median)\n",
    "   \n",
    "    ).reset_index()\n",
    "    # sort based on counts\n",
    "    out_df=out_df.sort_values(by='counts', ascending=False)\n",
    "    return out_df\n",
    "\n",
    "catVarStats(brick_ranch_df,'BasementType',\"ClosePrice\") "
   ]
  },
  {
   "cell_type": "markdown",
   "metadata": {},
   "source": [
    "42% of the houses have **Finished** basement and these have higher mean price 173k compared to overall sample mean of 169k."
   ]
  },
  {
   "cell_type": "markdown",
   "metadata": {},
   "source": [
    "### Basement Type"
   ]
  },
  {
   "cell_type": "code",
   "execution_count": null,
   "metadata": {},
   "outputs": [],
   "source": [
    "brick_ranch_df['BasementType_1']  = np.where(brick_ranch_df['BasementType']=='Finished', 'Finished','All Other')"
   ]
  },
  {
   "cell_type": "code",
   "execution_count": 331,
   "metadata": {},
   "outputs": [],
   "source": [
    "brick_ranch_df['BasementType_2']  = np.where(brick_ranch_df['BasementType']=='Finished', 1,0)"
   ]
  },
  {
   "cell_type": "code",
   "execution_count": 153,
   "metadata": {},
   "outputs": [
    {
     "data": {
      "text/html": [
       "<div>\n",
       "<style scoped>\n",
       "    .dataframe tbody tr th:only-of-type {\n",
       "        vertical-align: middle;\n",
       "    }\n",
       "\n",
       "    .dataframe tbody tr th {\n",
       "        vertical-align: top;\n",
       "    }\n",
       "\n",
       "    .dataframe thead th {\n",
       "        text-align: right;\n",
       "    }\n",
       "</style>\n",
       "<table border=\"1\" class=\"dataframe\">\n",
       "  <thead>\n",
       "    <tr style=\"text-align: right;\">\n",
       "      <th></th>\n",
       "      <th>BasementType_1</th>\n",
       "      <th>counts</th>\n",
       "      <th>percent</th>\n",
       "      <th>min_LabelVar</th>\n",
       "      <th>max_LabelVar</th>\n",
       "      <th>mean_LabelVar</th>\n",
       "      <th>median_LabelVar</th>\n",
       "    </tr>\n",
       "  </thead>\n",
       "  <tbody>\n",
       "    <tr>\n",
       "      <th>0</th>\n",
       "      <td>All Other</td>\n",
       "      <td>1032.0</td>\n",
       "      <td>57.944975</td>\n",
       "      <td>60000.0</td>\n",
       "      <td>275000.0</td>\n",
       "      <td>166026.612403</td>\n",
       "      <td>165000.0</td>\n",
       "    </tr>\n",
       "    <tr>\n",
       "      <th>1</th>\n",
       "      <td>Finished</td>\n",
       "      <td>749.0</td>\n",
       "      <td>42.055025</td>\n",
       "      <td>98000.0</td>\n",
       "      <td>275000.0</td>\n",
       "      <td>173082.882630</td>\n",
       "      <td>169900.0</td>\n",
       "    </tr>\n",
       "  </tbody>\n",
       "</table>\n",
       "</div>"
      ],
      "text/plain": [
       "  BasementType_1  counts    percent  min_LabelVar  max_LabelVar  \\\n",
       "0      All Other  1032.0  57.944975       60000.0      275000.0   \n",
       "1       Finished   749.0  42.055025       98000.0      275000.0   \n",
       "\n",
       "   mean_LabelVar  median_LabelVar  \n",
       "0  166026.612403         165000.0  \n",
       "1  173082.882630         169900.0  "
      ]
     },
     "execution_count": 153,
     "metadata": {},
     "output_type": "execute_result"
    }
   ],
   "source": [
    "catVarStats(brick_ranch_df,'BasementType_1',\"ClosePrice\") "
   ]
  },
  {
   "cell_type": "code",
   "execution_count": 310,
   "metadata": {},
   "outputs": [],
   "source": [
    "import statsmodels\n",
    "import statsmodels.api as sm\n",
    "from statsmodels.formula.api import ols"
   ]
  },
  {
   "cell_type": "code",
   "execution_count": 311,
   "metadata": {},
   "outputs": [
    {
     "name": "stdout",
     "output_type": "stream",
     "text": [
      "                              sum_sq      df          F        PR(>F)\n",
      "C(BasementType_1, Sum)  2.160966e+10     1.0  25.430743  5.052685e-07\n",
      "Residual                1.511698e+12  1779.0        NaN           NaN\n"
     ]
    }
   ],
   "source": [
    "# ANOVA - Analysis\n",
    "BasementType_lm = ols('ClosePrice ~ C(BasementType_1, Sum)', data=brick_ranch_df).fit()\n",
    "table = sm.stats.anova_lm(BasementType_lm, typ=2) # Type 2 ANOVA DataFrame\n",
    "print(table)"
   ]
  },
  {
   "cell_type": "markdown",
   "metadata": {},
   "source": [
    "F statistics and P Value suggest that the relationship between Basement Type and Close Price is significant."
   ]
  },
  {
   "cell_type": "markdown",
   "metadata": {},
   "source": [
    "### Garage Size"
   ]
  },
  {
   "cell_type": "code",
   "execution_count": 154,
   "metadata": {},
   "outputs": [
    {
     "data": {
      "text/html": [
       "<div>\n",
       "<style scoped>\n",
       "    .dataframe tbody tr th:only-of-type {\n",
       "        vertical-align: middle;\n",
       "    }\n",
       "\n",
       "    .dataframe tbody tr th {\n",
       "        vertical-align: top;\n",
       "    }\n",
       "\n",
       "    .dataframe thead th {\n",
       "        text-align: right;\n",
       "    }\n",
       "</style>\n",
       "<table border=\"1\" class=\"dataframe\">\n",
       "  <thead>\n",
       "    <tr style=\"text-align: right;\">\n",
       "      <th></th>\n",
       "      <th>Garage_Size</th>\n",
       "      <th>counts</th>\n",
       "      <th>percent</th>\n",
       "      <th>min_LabelVar</th>\n",
       "      <th>max_LabelVar</th>\n",
       "      <th>mean_LabelVar</th>\n",
       "      <th>median_LabelVar</th>\n",
       "    </tr>\n",
       "  </thead>\n",
       "  <tbody>\n",
       "    <tr>\n",
       "      <th>2</th>\n",
       "      <td>2 Car</td>\n",
       "      <td>1520.0</td>\n",
       "      <td>85.345312</td>\n",
       "      <td>66000.0</td>\n",
       "      <td>275000.0</td>\n",
       "      <td>171274.128349</td>\n",
       "      <td>169900.0</td>\n",
       "    </tr>\n",
       "    <tr>\n",
       "      <th>6</th>\n",
       "      <td>2.5 Car</td>\n",
       "      <td>148.0</td>\n",
       "      <td>8.309938</td>\n",
       "      <td>60000.0</td>\n",
       "      <td>259900.0</td>\n",
       "      <td>165310.209459</td>\n",
       "      <td>165000.0</td>\n",
       "    </tr>\n",
       "    <tr>\n",
       "      <th>0</th>\n",
       "      <td>1 Car</td>\n",
       "      <td>50.0</td>\n",
       "      <td>2.807412</td>\n",
       "      <td>87000.0</td>\n",
       "      <td>225000.0</td>\n",
       "      <td>144263.980000</td>\n",
       "      <td>147000.0</td>\n",
       "    </tr>\n",
       "    <tr>\n",
       "      <th>11</th>\n",
       "      <td>No Garage</td>\n",
       "      <td>31.0</td>\n",
       "      <td>1.740595</td>\n",
       "      <td>75000.0</td>\n",
       "      <td>205000.0</td>\n",
       "      <td>132226.064516</td>\n",
       "      <td>142800.0</td>\n",
       "    </tr>\n",
       "    <tr>\n",
       "      <th>1</th>\n",
       "      <td>1.5 Car</td>\n",
       "      <td>9.0</td>\n",
       "      <td>0.505334</td>\n",
       "      <td>116250.0</td>\n",
       "      <td>171000.0</td>\n",
       "      <td>151972.222222</td>\n",
       "      <td>159500.0</td>\n",
       "    </tr>\n",
       "    <tr>\n",
       "      <th>7</th>\n",
       "      <td>3 Car</td>\n",
       "      <td>9.0</td>\n",
       "      <td>0.505334</td>\n",
       "      <td>100000.0</td>\n",
       "      <td>176500.0</td>\n",
       "      <td>149155.555556</td>\n",
       "      <td>153000.0</td>\n",
       "    </tr>\n",
       "    <tr>\n",
       "      <th>8</th>\n",
       "      <td>4 Car</td>\n",
       "      <td>5.0</td>\n",
       "      <td>0.280741</td>\n",
       "      <td>157000.0</td>\n",
       "      <td>163100.0</td>\n",
       "      <td>160940.000000</td>\n",
       "      <td>162500.0</td>\n",
       "    </tr>\n",
       "    <tr>\n",
       "      <th>10</th>\n",
       "      <td>NA</td>\n",
       "      <td>4.0</td>\n",
       "      <td>0.224593</td>\n",
       "      <td>99000.0</td>\n",
       "      <td>148000.0</td>\n",
       "      <td>129750.000000</td>\n",
       "      <td>136000.0</td>\n",
       "    </tr>\n",
       "    <tr>\n",
       "      <th>4</th>\n",
       "      <td>2 Car, 3 Car</td>\n",
       "      <td>2.0</td>\n",
       "      <td>0.112296</td>\n",
       "      <td>146900.0</td>\n",
       "      <td>147000.0</td>\n",
       "      <td>146950.000000</td>\n",
       "      <td>146950.0</td>\n",
       "    </tr>\n",
       "    <tr>\n",
       "      <th>3</th>\n",
       "      <td>2 Car, 2.5 Car</td>\n",
       "      <td>1.0</td>\n",
       "      <td>0.056148</td>\n",
       "      <td>165000.0</td>\n",
       "      <td>165000.0</td>\n",
       "      <td>165000.000000</td>\n",
       "      <td>165000.0</td>\n",
       "    </tr>\n",
       "    <tr>\n",
       "      <th>5</th>\n",
       "      <td>2 Car, 6 or More</td>\n",
       "      <td>1.0</td>\n",
       "      <td>0.056148</td>\n",
       "      <td>195000.0</td>\n",
       "      <td>195000.0</td>\n",
       "      <td>195000.000000</td>\n",
       "      <td>195000.0</td>\n",
       "    </tr>\n",
       "    <tr>\n",
       "      <th>9</th>\n",
       "      <td>&gt; 3 Car</td>\n",
       "      <td>1.0</td>\n",
       "      <td>0.056148</td>\n",
       "      <td>176000.0</td>\n",
       "      <td>176000.0</td>\n",
       "      <td>176000.000000</td>\n",
       "      <td>176000.0</td>\n",
       "    </tr>\n",
       "  </tbody>\n",
       "</table>\n",
       "</div>"
      ],
      "text/plain": [
       "         Garage_Size  counts    percent  min_LabelVar  max_LabelVar  \\\n",
       "2              2 Car  1520.0  85.345312       66000.0      275000.0   \n",
       "6            2.5 Car   148.0   8.309938       60000.0      259900.0   \n",
       "0              1 Car    50.0   2.807412       87000.0      225000.0   \n",
       "11         No Garage    31.0   1.740595       75000.0      205000.0   \n",
       "1            1.5 Car     9.0   0.505334      116250.0      171000.0   \n",
       "7              3 Car     9.0   0.505334      100000.0      176500.0   \n",
       "8              4 Car     5.0   0.280741      157000.0      163100.0   \n",
       "10                NA     4.0   0.224593       99000.0      148000.0   \n",
       "4       2 Car, 3 Car     2.0   0.112296      146900.0      147000.0   \n",
       "3     2 Car, 2.5 Car     1.0   0.056148      165000.0      165000.0   \n",
       "5   2 Car, 6 or More     1.0   0.056148      195000.0      195000.0   \n",
       "9            > 3 Car     1.0   0.056148      176000.0      176000.0   \n",
       "\n",
       "    mean_LabelVar  median_LabelVar  \n",
       "2   171274.128349         169900.0  \n",
       "6   165310.209459         165000.0  \n",
       "0   144263.980000         147000.0  \n",
       "11  132226.064516         142800.0  \n",
       "1   151972.222222         159500.0  \n",
       "7   149155.555556         153000.0  \n",
       "8   160940.000000         162500.0  \n",
       "10  129750.000000         136000.0  \n",
       "4   146950.000000         146950.0  \n",
       "3   165000.000000         165000.0  \n",
       "5   195000.000000         195000.0  \n",
       "9   176000.000000         176000.0  "
      ]
     },
     "execution_count": 154,
     "metadata": {},
     "output_type": "execute_result"
    }
   ],
   "source": [
    "catVarStats(brick_ranch_df,'Garage_Size',\"ClosePrice\") "
   ]
  },
  {
   "cell_type": "markdown",
   "metadata": {},
   "source": [
    "Garage Size **2 Car** is for 85% of the properties and these have mean as 171k compared to overall sample mean of 169k. But when we look at **2.5 Car** or **3 Car**, the average prices are going down. So, we may conclude that for the current sample, the garage size is not playing a significant role."
   ]
  },
  {
   "cell_type": "markdown",
   "metadata": {},
   "source": [
    "### Out Buildings"
   ]
  },
  {
   "cell_type": "code",
   "execution_count": 138,
   "metadata": {},
   "outputs": [
    {
     "data": {
      "text/html": [
       "<div>\n",
       "<style scoped>\n",
       "    .dataframe tbody tr th:only-of-type {\n",
       "        vertical-align: middle;\n",
       "    }\n",
       "\n",
       "    .dataframe tbody tr th {\n",
       "        vertical-align: top;\n",
       "    }\n",
       "\n",
       "    .dataframe thead th {\n",
       "        text-align: right;\n",
       "    }\n",
       "</style>\n",
       "<table border=\"1\" class=\"dataframe\">\n",
       "  <thead>\n",
       "    <tr style=\"text-align: right;\">\n",
       "      <th></th>\n",
       "      <th>Out_Buildings</th>\n",
       "      <th>counts</th>\n",
       "      <th>percent</th>\n",
       "      <th>min_LabelVar</th>\n",
       "      <th>max_LabelVar</th>\n",
       "      <th>mean_LabelVar</th>\n",
       "      <th>median_LabelVar</th>\n",
       "    </tr>\n",
       "  </thead>\n",
       "  <tbody>\n",
       "    <tr>\n",
       "      <th>4</th>\n",
       "      <td>Shed</td>\n",
       "      <td>226.0</td>\n",
       "      <td>12.689500</td>\n",
       "      <td>80000.0</td>\n",
       "      <td>275000.0</td>\n",
       "      <td>177673.903053</td>\n",
       "      <td>175000.0</td>\n",
       "    </tr>\n",
       "    <tr>\n",
       "      <th>0</th>\n",
       "      <td>Garage</td>\n",
       "      <td>3.0</td>\n",
       "      <td>0.168445</td>\n",
       "      <td>160000.0</td>\n",
       "      <td>238000.0</td>\n",
       "      <td>192666.666667</td>\n",
       "      <td>180000.0</td>\n",
       "    </tr>\n",
       "    <tr>\n",
       "      <th>2</th>\n",
       "      <td>Second Garage</td>\n",
       "      <td>2.0</td>\n",
       "      <td>0.112296</td>\n",
       "      <td>172000.0</td>\n",
       "      <td>179900.0</td>\n",
       "      <td>175950.000000</td>\n",
       "      <td>175950.0</td>\n",
       "    </tr>\n",
       "    <tr>\n",
       "      <th>5</th>\n",
       "      <td>Shed, Second Garage</td>\n",
       "      <td>2.0</td>\n",
       "      <td>0.112296</td>\n",
       "      <td>164000.0</td>\n",
       "      <td>186900.0</td>\n",
       "      <td>175450.000000</td>\n",
       "      <td>175450.0</td>\n",
       "    </tr>\n",
       "    <tr>\n",
       "      <th>1</th>\n",
       "      <td>Kennel, Pole Barn, Second Garage</td>\n",
       "      <td>1.0</td>\n",
       "      <td>0.056148</td>\n",
       "      <td>195000.0</td>\n",
       "      <td>195000.0</td>\n",
       "      <td>195000.000000</td>\n",
       "      <td>195000.0</td>\n",
       "    </tr>\n",
       "    <tr>\n",
       "      <th>3</th>\n",
       "      <td>Second Garage, Shed</td>\n",
       "      <td>1.0</td>\n",
       "      <td>0.056148</td>\n",
       "      <td>183000.0</td>\n",
       "      <td>183000.0</td>\n",
       "      <td>183000.000000</td>\n",
       "      <td>183000.0</td>\n",
       "    </tr>\n",
       "    <tr>\n",
       "      <th>6</th>\n",
       "      <td>Silo</td>\n",
       "      <td>1.0</td>\n",
       "      <td>0.056148</td>\n",
       "      <td>275000.0</td>\n",
       "      <td>275000.0</td>\n",
       "      <td>275000.000000</td>\n",
       "      <td>275000.0</td>\n",
       "    </tr>\n",
       "  </tbody>\n",
       "</table>\n",
       "</div>"
      ],
      "text/plain": [
       "                      Out_Buildings  counts    percent  min_LabelVar  \\\n",
       "4                              Shed   226.0  12.689500       80000.0   \n",
       "0                            Garage     3.0   0.168445      160000.0   \n",
       "2                     Second Garage     2.0   0.112296      172000.0   \n",
       "5               Shed, Second Garage     2.0   0.112296      164000.0   \n",
       "1  Kennel, Pole Barn, Second Garage     1.0   0.056148      195000.0   \n",
       "3               Second Garage, Shed     1.0   0.056148      183000.0   \n",
       "6                              Silo     1.0   0.056148      275000.0   \n",
       "\n",
       "   max_LabelVar  mean_LabelVar  median_LabelVar  \n",
       "4      275000.0  177673.903053         175000.0  \n",
       "0      238000.0  192666.666667         180000.0  \n",
       "2      179900.0  175950.000000         175950.0  \n",
       "5      186900.0  175450.000000         175450.0  \n",
       "1      195000.0  195000.000000         195000.0  \n",
       "3      183000.0  183000.000000         183000.0  \n",
       "6      275000.0  275000.000000         275000.0  "
      ]
     },
     "execution_count": 138,
     "metadata": {},
     "output_type": "execute_result"
    }
   ],
   "source": [
    "catVarStats(brick_ranch_df,'Out_Buildings',\"ClosePrice\") "
   ]
  },
  {
   "cell_type": "markdown",
   "metadata": {},
   "source": [
    "Data is available for only 13% of the properties. So, we may have to check whether having \"out Building\" plays any role in average prices."
   ]
  },
  {
   "cell_type": "code",
   "execution_count": 268,
   "metadata": {},
   "outputs": [],
   "source": [
    "brick_ranch_df['Out_Buildings_1']  = np.where(brick_ranch_df['Out_Buildings'].isnull(), 'Not Available','Available')"
   ]
  },
  {
   "cell_type": "code",
   "execution_count": 269,
   "metadata": {},
   "outputs": [
    {
     "data": {
      "text/html": [
       "<div>\n",
       "<style scoped>\n",
       "    .dataframe tbody tr th:only-of-type {\n",
       "        vertical-align: middle;\n",
       "    }\n",
       "\n",
       "    .dataframe tbody tr th {\n",
       "        vertical-align: top;\n",
       "    }\n",
       "\n",
       "    .dataframe thead th {\n",
       "        text-align: right;\n",
       "    }\n",
       "</style>\n",
       "<table border=\"1\" class=\"dataframe\">\n",
       "  <thead>\n",
       "    <tr style=\"text-align: right;\">\n",
       "      <th></th>\n",
       "      <th>Out_Buildings_1</th>\n",
       "      <th>counts</th>\n",
       "      <th>percent</th>\n",
       "      <th>min_LabelVar</th>\n",
       "      <th>max_LabelVar</th>\n",
       "      <th>mean_LabelVar</th>\n",
       "      <th>median_LabelVar</th>\n",
       "    </tr>\n",
       "  </thead>\n",
       "  <tbody>\n",
       "    <tr>\n",
       "      <th>1</th>\n",
       "      <td>Not Available</td>\n",
       "      <td>1545.0</td>\n",
       "      <td>86.749017</td>\n",
       "      <td>60000.0</td>\n",
       "      <td>265000.0</td>\n",
       "      <td>167566.628479</td>\n",
       "      <td>165000.0</td>\n",
       "    </tr>\n",
       "    <tr>\n",
       "      <th>0</th>\n",
       "      <td>Available</td>\n",
       "      <td>236.0</td>\n",
       "      <td>13.250983</td>\n",
       "      <td>80000.0</td>\n",
       "      <td>275000.0</td>\n",
       "      <td>178339.415636</td>\n",
       "      <td>175000.0</td>\n",
       "    </tr>\n",
       "  </tbody>\n",
       "</table>\n",
       "</div>"
      ],
      "text/plain": [
       "  Out_Buildings_1  counts    percent  min_LabelVar  max_LabelVar  \\\n",
       "1   Not Available  1545.0  86.749017       60000.0      265000.0   \n",
       "0       Available   236.0  13.250983       80000.0      275000.0   \n",
       "\n",
       "   mean_LabelVar  median_LabelVar  \n",
       "1  167566.628479         165000.0  \n",
       "0  178339.415636         175000.0  "
      ]
     },
     "execution_count": 269,
     "metadata": {},
     "output_type": "execute_result"
    }
   ],
   "source": [
    "catVarStats(brick_ranch_df,'Out_Buildings_1',\"ClosePrice\") "
   ]
  },
  {
   "cell_type": "code",
   "execution_count": 326,
   "metadata": {},
   "outputs": [],
   "source": [
    "brick_ranch_df['Out_Buildings_2']  = np.where(brick_ranch_df['Out_Buildings'].isnull(), 0,1)"
   ]
  },
  {
   "cell_type": "code",
   "execution_count": 312,
   "metadata": {},
   "outputs": [
    {
     "name": "stdout",
     "output_type": "stream",
     "text": [
      "                               sum_sq      df          F        PR(>F)\n",
      "C(Out_Buildings_1, Sum)  2.375925e+10     1.0  28.000241  1.363197e-07\n",
      "Residual                 1.509548e+12  1779.0        NaN           NaN\n"
     ]
    }
   ],
   "source": [
    "# ANOVA - Analysis\n",
    "Out_Buildings_lm = ols('ClosePrice ~ C(Out_Buildings_1, Sum)', data=brick_ranch_df).fit()\n",
    "table = sm.stats.anova_lm(Out_Buildings_lm, typ=2) # Type 2 ANOVA DataFrame\n",
    "print(table)"
   ]
  },
  {
   "cell_type": "markdown",
   "metadata": {},
   "source": [
    "Based on summary statistics, it shows that having out building plays a role in average pricing of a property"
   ]
  },
  {
   "cell_type": "markdown",
   "metadata": {},
   "source": [
    "### Ownership"
   ]
  },
  {
   "cell_type": "code",
   "execution_count": 155,
   "metadata": {},
   "outputs": [
    {
     "data": {
      "text/html": [
       "<div>\n",
       "<style scoped>\n",
       "    .dataframe tbody tr th:only-of-type {\n",
       "        vertical-align: middle;\n",
       "    }\n",
       "\n",
       "    .dataframe tbody tr th {\n",
       "        vertical-align: top;\n",
       "    }\n",
       "\n",
       "    .dataframe thead th {\n",
       "        text-align: right;\n",
       "    }\n",
       "</style>\n",
       "<table border=\"1\" class=\"dataframe\">\n",
       "  <thead>\n",
       "    <tr style=\"text-align: right;\">\n",
       "      <th></th>\n",
       "      <th>Ownership</th>\n",
       "      <th>counts</th>\n",
       "      <th>percent</th>\n",
       "      <th>min_LabelVar</th>\n",
       "      <th>max_LabelVar</th>\n",
       "      <th>mean_LabelVar</th>\n",
       "      <th>median_LabelVar</th>\n",
       "    </tr>\n",
       "  </thead>\n",
       "  <tbody>\n",
       "    <tr>\n",
       "      <th>5</th>\n",
       "      <td>Private - Owned</td>\n",
       "      <td>1750.0</td>\n",
       "      <td>98.259405</td>\n",
       "      <td>60000.0</td>\n",
       "      <td>275000.0</td>\n",
       "      <td>169639.082909</td>\n",
       "      <td>167000.0</td>\n",
       "    </tr>\n",
       "    <tr>\n",
       "      <th>0</th>\n",
       "      <td>Bank - Owned</td>\n",
       "      <td>16.0</td>\n",
       "      <td>0.898372</td>\n",
       "      <td>77608.0</td>\n",
       "      <td>173000.0</td>\n",
       "      <td>132721.750000</td>\n",
       "      <td>132500.0</td>\n",
       "    </tr>\n",
       "    <tr>\n",
       "      <th>3</th>\n",
       "      <td>Fannie MAE/Freddie MAC</td>\n",
       "      <td>7.0</td>\n",
       "      <td>0.393038</td>\n",
       "      <td>87900.0</td>\n",
       "      <td>156900.0</td>\n",
       "      <td>127000.000000</td>\n",
       "      <td>130000.0</td>\n",
       "    </tr>\n",
       "    <tr>\n",
       "      <th>4</th>\n",
       "      <td>Government - Owned</td>\n",
       "      <td>4.0</td>\n",
       "      <td>0.224593</td>\n",
       "      <td>95000.0</td>\n",
       "      <td>156000.0</td>\n",
       "      <td>125650.000000</td>\n",
       "      <td>125800.0</td>\n",
       "    </tr>\n",
       "    <tr>\n",
       "      <th>2</th>\n",
       "      <td>Corporate/Relocation</td>\n",
       "      <td>3.0</td>\n",
       "      <td>0.168445</td>\n",
       "      <td>112000.0</td>\n",
       "      <td>200000.0</td>\n",
       "      <td>141666.666667</td>\n",
       "      <td>113000.0</td>\n",
       "    </tr>\n",
       "    <tr>\n",
       "      <th>1</th>\n",
       "      <td>Broker/Agent Owned</td>\n",
       "      <td>1.0</td>\n",
       "      <td>0.056148</td>\n",
       "      <td>170000.0</td>\n",
       "      <td>170000.0</td>\n",
       "      <td>170000.000000</td>\n",
       "      <td>170000.0</td>\n",
       "    </tr>\n",
       "  </tbody>\n",
       "</table>\n",
       "</div>"
      ],
      "text/plain": [
       "                Ownership  counts    percent  min_LabelVar  max_LabelVar  \\\n",
       "5         Private - Owned  1750.0  98.259405       60000.0      275000.0   \n",
       "0            Bank - Owned    16.0   0.898372       77608.0      173000.0   \n",
       "3  Fannie MAE/Freddie MAC     7.0   0.393038       87900.0      156900.0   \n",
       "4      Government - Owned     4.0   0.224593       95000.0      156000.0   \n",
       "2    Corporate/Relocation     3.0   0.168445      112000.0      200000.0   \n",
       "1      Broker/Agent Owned     1.0   0.056148      170000.0      170000.0   \n",
       "\n",
       "   mean_LabelVar  median_LabelVar  \n",
       "5  169639.082909         167000.0  \n",
       "0  132721.750000         132500.0  \n",
       "3  127000.000000         130000.0  \n",
       "4  125650.000000         125800.0  \n",
       "2  141666.666667         113000.0  \n",
       "1  170000.000000         170000.0  "
      ]
     },
     "execution_count": 155,
     "metadata": {},
     "output_type": "execute_result"
    }
   ],
   "source": [
    "catVarStats(brick_ranch_df,'Ownership',\"ClosePrice\") "
   ]
  },
  {
   "cell_type": "markdown",
   "metadata": {},
   "source": [
    "98% of all the properies are Private Owned. So, this information is of less use."
   ]
  },
  {
   "cell_type": "markdown",
   "metadata": {},
   "source": [
    "### Baths"
   ]
  },
  {
   "cell_type": "code",
   "execution_count": 157,
   "metadata": {},
   "outputs": [
    {
     "data": {
      "text/html": [
       "<div>\n",
       "<style scoped>\n",
       "    .dataframe tbody tr th:only-of-type {\n",
       "        vertical-align: middle;\n",
       "    }\n",
       "\n",
       "    .dataframe tbody tr th {\n",
       "        vertical-align: top;\n",
       "    }\n",
       "\n",
       "    .dataframe thead th {\n",
       "        text-align: right;\n",
       "    }\n",
       "</style>\n",
       "<table border=\"1\" class=\"dataframe\">\n",
       "  <thead>\n",
       "    <tr style=\"text-align: right;\">\n",
       "      <th></th>\n",
       "      <th>Baths_Full</th>\n",
       "      <th>counts</th>\n",
       "      <th>percent</th>\n",
       "      <th>min_LabelVar</th>\n",
       "      <th>max_LabelVar</th>\n",
       "      <th>mean_LabelVar</th>\n",
       "      <th>median_LabelVar</th>\n",
       "    </tr>\n",
       "  </thead>\n",
       "  <tbody>\n",
       "    <tr>\n",
       "      <th>0</th>\n",
       "      <td>1</td>\n",
       "      <td>1380.0</td>\n",
       "      <td>77.484559</td>\n",
       "      <td>60000.0</td>\n",
       "      <td>259900.0</td>\n",
       "      <td>165127.339855</td>\n",
       "      <td>164900.0</td>\n",
       "    </tr>\n",
       "    <tr>\n",
       "      <th>1</th>\n",
       "      <td>2</td>\n",
       "      <td>382.0</td>\n",
       "      <td>21.448624</td>\n",
       "      <td>66000.0</td>\n",
       "      <td>275000.0</td>\n",
       "      <td>181397.419084</td>\n",
       "      <td>175000.0</td>\n",
       "    </tr>\n",
       "    <tr>\n",
       "      <th>2</th>\n",
       "      <td>3</td>\n",
       "      <td>19.0</td>\n",
       "      <td>1.066816</td>\n",
       "      <td>140000.0</td>\n",
       "      <td>260000.0</td>\n",
       "      <td>200473.684211</td>\n",
       "      <td>205000.0</td>\n",
       "    </tr>\n",
       "  </tbody>\n",
       "</table>\n",
       "</div>"
      ],
      "text/plain": [
       "   Baths_Full  counts    percent  min_LabelVar  max_LabelVar  mean_LabelVar  \\\n",
       "0           1  1380.0  77.484559       60000.0      259900.0  165127.339855   \n",
       "1           2   382.0  21.448624       66000.0      275000.0  181397.419084   \n",
       "2           3    19.0   1.066816      140000.0      260000.0  200473.684211   \n",
       "\n",
       "   median_LabelVar  \n",
       "0         164900.0  \n",
       "1         175000.0  \n",
       "2         205000.0  "
      ]
     },
     "execution_count": 157,
     "metadata": {},
     "output_type": "execute_result"
    }
   ],
   "source": [
    "catVarStats(brick_ranch_df,'Baths_Full',\"ClosePrice\") \n"
   ]
  },
  {
   "cell_type": "code",
   "execution_count": 313,
   "metadata": {},
   "outputs": [
    {
     "name": "stdout",
     "output_type": "stream",
     "text": [
      "                          sum_sq      df          F        PR(>F)\n",
      "C(Baths_Full, Sum)  9.822962e+10     2.0  60.851159  2.740788e-26\n",
      "Residual            1.435078e+12  1778.0        NaN           NaN\n"
     ]
    }
   ],
   "source": [
    "# ANOVA - Analysis\n",
    "Baths_Full_lm = ols('ClosePrice ~ C(Baths_Full, Sum)', data=brick_ranch_df).fit()\n",
    "table = sm.stats.anova_lm(Baths_Full_lm, typ=2) # Type 2 ANOVA DataFrame\n",
    "print(table)"
   ]
  },
  {
   "cell_type": "code",
   "execution_count": 158,
   "metadata": {},
   "outputs": [
    {
     "data": {
      "text/html": [
       "<div>\n",
       "<style scoped>\n",
       "    .dataframe tbody tr th:only-of-type {\n",
       "        vertical-align: middle;\n",
       "    }\n",
       "\n",
       "    .dataframe tbody tr th {\n",
       "        vertical-align: top;\n",
       "    }\n",
       "\n",
       "    .dataframe thead th {\n",
       "        text-align: right;\n",
       "    }\n",
       "</style>\n",
       "<table border=\"1\" class=\"dataframe\">\n",
       "  <thead>\n",
       "    <tr style=\"text-align: right;\">\n",
       "      <th></th>\n",
       "      <th>Baths_Half</th>\n",
       "      <th>counts</th>\n",
       "      <th>percent</th>\n",
       "      <th>min_LabelVar</th>\n",
       "      <th>max_LabelVar</th>\n",
       "      <th>mean_LabelVar</th>\n",
       "      <th>median_LabelVar</th>\n",
       "    </tr>\n",
       "  </thead>\n",
       "  <tbody>\n",
       "    <tr>\n",
       "      <th>1</th>\n",
       "      <td>1</td>\n",
       "      <td>1193.0</td>\n",
       "      <td>66.984840</td>\n",
       "      <td>60000.0</td>\n",
       "      <td>275000.0</td>\n",
       "      <td>170671.966471</td>\n",
       "      <td>169900.0</td>\n",
       "    </tr>\n",
       "    <tr>\n",
       "      <th>0</th>\n",
       "      <td>0</td>\n",
       "      <td>567.0</td>\n",
       "      <td>31.836047</td>\n",
       "      <td>66000.0</td>\n",
       "      <td>262500.0</td>\n",
       "      <td>165269.113034</td>\n",
       "      <td>163000.0</td>\n",
       "    </tr>\n",
       "    <tr>\n",
       "      <th>2</th>\n",
       "      <td>2</td>\n",
       "      <td>21.0</td>\n",
       "      <td>1.179113</td>\n",
       "      <td>146000.0</td>\n",
       "      <td>217000.0</td>\n",
       "      <td>174252.380952</td>\n",
       "      <td>170000.0</td>\n",
       "    </tr>\n",
       "  </tbody>\n",
       "</table>\n",
       "</div>"
      ],
      "text/plain": [
       "   Baths_Half  counts    percent  min_LabelVar  max_LabelVar  mean_LabelVar  \\\n",
       "1           1  1193.0  66.984840       60000.0      275000.0  170671.966471   \n",
       "0           0   567.0  31.836047       66000.0      262500.0  165269.113034   \n",
       "2           2    21.0   1.179113      146000.0      217000.0  174252.380952   \n",
       "\n",
       "   median_LabelVar  \n",
       "1         169900.0  \n",
       "0         163000.0  \n",
       "2         170000.0  "
      ]
     },
     "execution_count": 158,
     "metadata": {},
     "output_type": "execute_result"
    }
   ],
   "source": [
    "catVarStats(brick_ranch_df,'Baths_Half',\"ClosePrice\") "
   ]
  },
  {
   "cell_type": "code",
   "execution_count": 314,
   "metadata": {},
   "outputs": [
    {
     "name": "stdout",
     "output_type": "stream",
     "text": [
      "                          sum_sq      df         F    PR(>F)\n",
      "C(Baths_Half, Sum)  1.180664e+10     2.0  6.898521  0.001037\n",
      "Residual            1.521501e+12  1778.0       NaN       NaN\n"
     ]
    }
   ],
   "source": [
    "# ANOVA - Analysis\n",
    "Baths_Half_lm = ols('ClosePrice ~ C(Baths_Half, Sum)', data=brick_ranch_df).fit()\n",
    "table = sm.stats.anova_lm(Baths_Half_lm, typ=2) # Type 2 ANOVA DataFrame\n",
    "print(table)"
   ]
  },
  {
   "cell_type": "markdown",
   "metadata": {},
   "source": [
    "### Bed Rooms"
   ]
  },
  {
   "cell_type": "code",
   "execution_count": 159,
   "metadata": {},
   "outputs": [
    {
     "data": {
      "text/html": [
       "<div>\n",
       "<style scoped>\n",
       "    .dataframe tbody tr th:only-of-type {\n",
       "        vertical-align: middle;\n",
       "    }\n",
       "\n",
       "    .dataframe tbody tr th {\n",
       "        vertical-align: top;\n",
       "    }\n",
       "\n",
       "    .dataframe thead th {\n",
       "        text-align: right;\n",
       "    }\n",
       "</style>\n",
       "<table border=\"1\" class=\"dataframe\">\n",
       "  <thead>\n",
       "    <tr style=\"text-align: right;\">\n",
       "      <th></th>\n",
       "      <th>Beds_Total</th>\n",
       "      <th>counts</th>\n",
       "      <th>percent</th>\n",
       "      <th>min_LabelVar</th>\n",
       "      <th>max_LabelVar</th>\n",
       "      <th>mean_LabelVar</th>\n",
       "      <th>median_LabelVar</th>\n",
       "    </tr>\n",
       "  </thead>\n",
       "  <tbody>\n",
       "    <tr>\n",
       "      <th>1</th>\n",
       "      <td>3</td>\n",
       "      <td>1721.0</td>\n",
       "      <td>96.631106</td>\n",
       "      <td>60000.0</td>\n",
       "      <td>275000.0</td>\n",
       "      <td>169107.812371</td>\n",
       "      <td>166500.0</td>\n",
       "    </tr>\n",
       "    <tr>\n",
       "      <th>2</th>\n",
       "      <td>4</td>\n",
       "      <td>38.0</td>\n",
       "      <td>2.133633</td>\n",
       "      <td>99000.0</td>\n",
       "      <td>235000.0</td>\n",
       "      <td>174000.000000</td>\n",
       "      <td>167500.0</td>\n",
       "    </tr>\n",
       "    <tr>\n",
       "      <th>0</th>\n",
       "      <td>2</td>\n",
       "      <td>21.0</td>\n",
       "      <td>1.179113</td>\n",
       "      <td>77608.0</td>\n",
       "      <td>215000.0</td>\n",
       "      <td>149452.285714</td>\n",
       "      <td>141000.0</td>\n",
       "    </tr>\n",
       "    <tr>\n",
       "      <th>3</th>\n",
       "      <td>5</td>\n",
       "      <td>1.0</td>\n",
       "      <td>0.056148</td>\n",
       "      <td>193500.0</td>\n",
       "      <td>193500.0</td>\n",
       "      <td>193500.000000</td>\n",
       "      <td>193500.0</td>\n",
       "    </tr>\n",
       "  </tbody>\n",
       "</table>\n",
       "</div>"
      ],
      "text/plain": [
       "   Beds_Total  counts    percent  min_LabelVar  max_LabelVar  mean_LabelVar  \\\n",
       "1           3  1721.0  96.631106       60000.0      275000.0  169107.812371   \n",
       "2           4    38.0   2.133633       99000.0      235000.0  174000.000000   \n",
       "0           2    21.0   1.179113       77608.0      215000.0  149452.285714   \n",
       "3           5     1.0   0.056148      193500.0      193500.0  193500.000000   \n",
       "\n",
       "   median_LabelVar  \n",
       "1         166500.0  \n",
       "2         167500.0  \n",
       "0         141000.0  \n",
       "3         193500.0  "
      ]
     },
     "execution_count": 159,
     "metadata": {},
     "output_type": "execute_result"
    }
   ],
   "source": [
    "catVarStats(brick_ranch_df,'Beds_Total',\"ClosePrice\") "
   ]
  },
  {
   "cell_type": "code",
   "execution_count": 315,
   "metadata": {},
   "outputs": [
    {
     "name": "stdout",
     "output_type": "stream",
     "text": [
      "                          sum_sq      df         F    PR(>F)\n",
      "C(Beds_Total, Sum)  9.594568e+09     3.0  3.729826  0.010904\n",
      "Residual            1.523713e+12  1777.0       NaN       NaN\n"
     ]
    }
   ],
   "source": [
    "# ANOVA - Analysis\n",
    "Beds_Total_lm = ols('ClosePrice ~ C(Beds_Total, Sum)', data=brick_ranch_df).fit()\n",
    "table = sm.stats.anova_lm(Beds_Total_lm, typ=2) # Type 2 ANOVA DataFrame\n",
    "print(table)"
   ]
  },
  {
   "cell_type": "markdown",
   "metadata": {},
   "source": [
    "### Seller Concession Amount"
   ]
  },
  {
   "cell_type": "code",
   "execution_count": 264,
   "metadata": {},
   "outputs": [
    {
     "name": "stdout",
     "output_type": "stream",
     "text": [
      "Missing Counts 0\n",
      "Missing values now - after treatment 0\n"
     ]
    }
   ],
   "source": [
    "# Missing value replaced with -99\n",
    "import warnings\n",
    "warnings.filterwarnings('ignore')\n",
    "brick_ranch_df['Seller_Concession_Amount'].fillna(-99)\n",
    "\n",
    "print(\"Missing Counts\",brick_ranch_df['Seller_Concession_Amount'].isnull().sum())\n",
    "\n",
    "brick_ranch_df['Seller_Concession_Amount_1']  = np.where(brick_ranch_df['Seller_Concession_Amount'].isnull(), -99,brick_ranch_df['Seller_Concession_Amount'])\n",
    "# Missing values after treatment - validation\n",
    "print(\"Missing values now - after treatment\",brick_ranch_df['Seller_Concession_Amount_1'].isnull().sum())"
   ]
  },
  {
   "cell_type": "markdown",
   "metadata": {},
   "source": [
    "#### Converting to Groups\n",
    "Since 72% of the rows does not have seller concession amount populated, we are creating groups to see the average prices by seller amount. We may want to see % of the price.\n"
   ]
  },
  {
   "cell_type": "code",
   "execution_count": 318,
   "metadata": {},
   "outputs": [],
   "source": [
    "def contVarStats(df, feature, label):    \n",
    "    import numpy as np\n",
    "    df1=df\n",
    "    df1.drop(['feature_cuts'], axis = 1) \n",
    "    # Bin the feaure\n",
    "    df1['feature_cuts'] = pd.qcut(df1[feature], q=10, precision=0) \n",
    "    out_df =df1.groupby('feature_cuts').agg(\n",
    "    # Counts\n",
    "    counts=(label, lambda x: len(x) ),\n",
    "    # Percent\n",
    "    percent = (label, lambda x: (len(x)*100/ len(df[label]))),\n",
    "    # Min\n",
    "    min_LabelVar=(label, min),\n",
    "        # Max\n",
    "    max_LabelVar=(label, max),\n",
    "    # Mean\n",
    "    mean_LabelVar=(label, np.mean),\n",
    "    # Median\n",
    "    median_LabelVar=(label, np.median)\n",
    "   \n",
    "    ).reset_index()\n",
    "    return out_df\n",
    "\n",
    "\n",
    "#contVarStats(brick_ranch_df,'Seller_Concession_Amount',\"ClosePrice\") "
   ]
  },
  {
   "cell_type": "markdown",
   "metadata": {},
   "source": [
    "Looking at the average prices, above 4800 concession amount, the average price of the properies are significant. It makes sense as higher property price can afford to give higher concession amount."
   ]
  },
  {
   "cell_type": "code",
   "execution_count": 266,
   "metadata": {},
   "outputs": [],
   "source": [
    "# drop columns\n",
    "#brick_ranch_df.drop(['Seller_Concession_Amount_cuts','feature_cuts','Seller_Concession_Amount_1'], axis = 1) \n",
    "# Fill NA\n",
    "brick_ranch_df['Seller_Concession_Amount']=brick_ranch_df['Seller_Concession_Amount'].fillna(-99)\n",
    "bin_labels = ['No Information', '1-4800', '>5000']\n",
    "bin_cut = [-100, 1, 4800,100000]\n",
    "brick_ranch_df['Seller_Concession_Amount_cuts'] = pd.cut(brick_ranch_df['Seller_Concession_Amount'],\n",
    "                              bins=bin_cut, labels=bin_labels)"
   ]
  },
  {
   "cell_type": "code",
   "execution_count": 267,
   "metadata": {},
   "outputs": [
    {
     "name": "stdout",
     "output_type": "stream",
     "text": [
      "  Seller_Concession_Amount_cuts     ClosePrice\n",
      "0                No Information  169012.966718\n",
      "1                        1-4800  166350.268702\n",
      "2                         >5000  174806.993333\n"
     ]
    },
    {
     "data": {
      "text/plain": [
       "Text(0, 0.5, 'Price')"
      ]
     },
     "execution_count": 267,
     "metadata": {},
     "output_type": "execute_result"
    },
    {
     "data": {
      "image/png": "[encoded data removed]",
      "text/plain": [
       "<Figure size 432x288 with 1 Axes>"
      ]
     },
     "metadata": {
      "needs_background": "light"
     },
     "output_type": "display_data"
    }
   ],
   "source": [
    "df_grp = brick_ranch_df.groupby(['Seller_Concession_Amount_cuts'])['ClosePrice'].mean().reset_index()\n",
    "print(df_grp)\n",
    "import matplotlib.pyplot as plt\n",
    "fig, ax = plt.subplots()    \n",
    "ax.bar(df_grp['Seller_Concession_Amount_cuts'], df_grp['ClosePrice'])\n",
    "plt.title('Average Price')\n",
    "plt.xlabel('Seller Concession Amount')\n",
    "plt.ylabel('Price')  "
   ]
  },
  {
   "cell_type": "markdown",
   "metadata": {},
   "source": [
    "It seems having seller concession of over $5000 is only signficantly related to closing price. We may have to test statistically. Based on ANOVA F statistics, we can say that there is some evidence of relationship"
   ]
  },
  {
   "cell_type": "code",
   "execution_count": 316,
   "metadata": {},
   "outputs": [
    {
     "name": "stdout",
     "output_type": "stream",
     "text": [
      "                                             sum_sq      df         F  \\\n",
      "C(Seller_Concession_Amount_cuts, Sum)  7.438476e+09     2.0  4.333797   \n",
      "Residual                               1.525869e+12  1778.0       NaN   \n",
      "\n",
      "                                         PR(>F)  \n",
      "C(Seller_Concession_Amount_cuts, Sum)  0.013256  \n",
      "Residual                                    NaN  \n"
     ]
    }
   ],
   "source": [
    "# ANOVA - Analysis\n",
    "Seller_Concession_Amount_cuts_lm = ols('ClosePrice ~ C(Seller_Concession_Amount_cuts, Sum)', data=brick_ranch_df).fit()\n",
    "table = sm.stats.anova_lm(Seller_Concession_Amount_cuts_lm, typ=2) # Type 2 ANOVA DataFrame\n",
    "print(table)"
   ]
  },
  {
   "cell_type": "markdown",
   "metadata": {},
   "source": [
    "### Water Frontage\n",
    "\n",
    "For this particular file, all the observation has missing values. So, this feature is not relevant"
   ]
  },
  {
   "cell_type": "markdown",
   "metadata": {},
   "source": [
    "### Year Remodeled\n",
    "\n",
    "We may have to find years since modelled or whether a house is remodeled or not."
   ]
  },
  {
   "cell_type": "code",
   "execution_count": 280,
   "metadata": {},
   "outputs": [
    {
     "name": "stdout",
     "output_type": "stream",
     "text": [
      "Properties that has missing year remodeled are:  1509\n"
     ]
    }
   ],
   "source": [
    "print(\"Properties that has missing year remodeled are: \", brick_ranch_df['Year_Remodeled'].isnull().sum())"
   ]
  },
  {
   "cell_type": "markdown",
   "metadata": {},
   "source": [
    "% properties which were remodeled are:"
   ]
  },
  {
   "cell_type": "code",
   "execution_count": 286,
   "metadata": {},
   "outputs": [
    {
     "data": {
      "text/plain": [
       "15.27"
      ]
     },
     "execution_count": 286,
     "metadata": {},
     "output_type": "execute_result"
    }
   ],
   "source": [
    "np.round((len(brick_ranch_df['Year_Remodeled'])-brick_ranch_df['Year_Remodeled'].isnull().sum())*100/len(brick_ranch_df['Year_Remodeled']),2)"
   ]
  },
  {
   "cell_type": "code",
   "execution_count": 287,
   "metadata": {},
   "outputs": [],
   "source": [
    "brick_ranch_df['is_remodeled'] = np.where(brick_ranch_df['Year_Remodeled'].isnull(),0,1)"
   ]
  },
  {
   "cell_type": "code",
   "execution_count": 288,
   "metadata": {},
   "outputs": [
    {
     "data": {
      "text/html": [
       "<div>\n",
       "<style scoped>\n",
       "    .dataframe tbody tr th:only-of-type {\n",
       "        vertical-align: middle;\n",
       "    }\n",
       "\n",
       "    .dataframe tbody tr th {\n",
       "        vertical-align: top;\n",
       "    }\n",
       "\n",
       "    .dataframe thead th {\n",
       "        text-align: right;\n",
       "    }\n",
       "</style>\n",
       "<table border=\"1\" class=\"dataframe\">\n",
       "  <thead>\n",
       "    <tr style=\"text-align: right;\">\n",
       "      <th></th>\n",
       "      <th>is_remodeled</th>\n",
       "      <th>counts</th>\n",
       "      <th>percent</th>\n",
       "      <th>min_LabelVar</th>\n",
       "      <th>max_LabelVar</th>\n",
       "      <th>mean_LabelVar</th>\n",
       "      <th>median_LabelVar</th>\n",
       "    </tr>\n",
       "  </thead>\n",
       "  <tbody>\n",
       "    <tr>\n",
       "      <th>0</th>\n",
       "      <td>0</td>\n",
       "      <td>1509.0</td>\n",
       "      <td>84.727681</td>\n",
       "      <td>60000.0</td>\n",
       "      <td>275000.0</td>\n",
       "      <td>167385.948370</td>\n",
       "      <td>165000.0</td>\n",
       "    </tr>\n",
       "    <tr>\n",
       "      <th>1</th>\n",
       "      <td>1</td>\n",
       "      <td>272.0</td>\n",
       "      <td>15.272319</td>\n",
       "      <td>100000.0</td>\n",
       "      <td>275000.0</td>\n",
       "      <td>177915.981618</td>\n",
       "      <td>175000.0</td>\n",
       "    </tr>\n",
       "  </tbody>\n",
       "</table>\n",
       "</div>"
      ],
      "text/plain": [
       "   is_remodeled  counts    percent  min_LabelVar  max_LabelVar  mean_LabelVar  \\\n",
       "0             0  1509.0  84.727681       60000.0      275000.0  167385.948370   \n",
       "1             1   272.0  15.272319      100000.0      275000.0  177915.981618   \n",
       "\n",
       "   median_LabelVar  \n",
       "0         165000.0  \n",
       "1         175000.0  "
      ]
     },
     "execution_count": 288,
     "metadata": {},
     "output_type": "execute_result"
    }
   ],
   "source": [
    "catVarStats(brick_ranch_df,'is_remodeled',\"ClosePrice\") "
   ]
  },
  {
   "cell_type": "code",
   "execution_count": 317,
   "metadata": {},
   "outputs": [
    {
     "name": "stdout",
     "output_type": "stream",
     "text": [
      "                            sum_sq      df          F        PR(>F)\n",
      "C(is_remodeled, Sum)  2.555370e+10     1.0  30.150833  4.573140e-08\n",
      "Residual              1.507753e+12  1779.0        NaN           NaN\n"
     ]
    }
   ],
   "source": [
    "# ANOVA - Analysis\n",
    "is_remodeled_lm = ols('ClosePrice ~ C(is_remodeled, Sum)', data=brick_ranch_df).fit()\n",
    "table = sm.stats.anova_lm(is_remodeled_lm, typ=2) # Type 2 ANOVA DataFrame\n",
    "print(table)"
   ]
  },
  {
   "cell_type": "markdown",
   "metadata": {},
   "source": [
    "Data shows is that the remodeled properties has higher prices attached to it."
   ]
  },
  {
   "cell_type": "markdown",
   "metadata": {},
   "source": [
    "## Continuous Variables"
   ]
  },
  {
   "cell_type": "markdown",
   "metadata": {},
   "source": [
    "Now we are left wit continuous variables. There are : Acreage, and Est_Fin_Abv_Grd_SqFt. Now we want to understand correlation between these variables and the property prices"
   ]
  },
  {
   "cell_type": "code",
   "execution_count": 291,
   "metadata": {},
   "outputs": [
    {
     "name": "stdout",
     "output_type": "stream",
     "text": [
      "Acreage has # of missig rows 0\n",
      "Above Ground Sq Foot has # of missig rows 0\n"
     ]
    }
   ],
   "source": [
    "# missing values\n",
    "print(\"Acreage has # of missig rows\",brick_ranch_df['Acreage'].isnull().sum())\n",
    "print(\"Above Ground Sq Foot has # of missig rows\",brick_ranch_df['Est_Fin_Abv_Grd_SqFt'].isnull().sum())\n"
   ]
  },
  {
   "cell_type": "markdown",
   "metadata": {},
   "source": [
    "### Acreage"
   ]
  },
  {
   "cell_type": "code",
   "execution_count": 292,
   "metadata": {},
   "outputs": [
    {
     "data": {
      "image/png": "[encoded data removed]",
      "text/plain": [
       "<Figure size 432x288 with 1 Axes>"
      ]
     },
     "metadata": {
      "needs_background": "light"
     },
     "output_type": "display_data"
    }
   ],
   "source": [
    "# Scatter Plot to see the relationship:Acreage\n",
    "\n",
    "# Scatter Plot\n",
    "import matplotlib.pyplot as plt\n",
    "plt.scatter(brick_ranch_df['Acreage'], brick_ranch_df['ClosePrice'])\n",
    "plt.title('Acreage Vs Close Price')\n",
    "plt.xlabel('Acreage')\n",
    "plt.ylabel('Price')\n",
    "plt.show()"
   ]
  },
  {
   "cell_type": "markdown",
   "metadata": {},
   "source": [
    "Clear case of outlier. We may need to see the distribution and treat this variable."
   ]
  },
  {
   "cell_type": "code",
   "execution_count": 300,
   "metadata": {},
   "outputs": [
    {
     "data": {
      "text/plain": [
       "0.01    0.00\n",
       "0.05    0.11\n",
       "0.95    0.26\n",
       "0.99    0.50\n",
       "1.00    0.50\n",
       "Name: Acreage, dtype: float64"
      ]
     },
     "execution_count": 300,
     "metadata": {},
     "output_type": "execute_result"
    }
   ],
   "source": [
    "# Outlier Identification\n",
    "brick_ranch_df['Acreage'].quantile([.01, .05, .95, .99,1]) "
   ]
  },
  {
   "cell_type": "code",
   "execution_count": 299,
   "metadata": {},
   "outputs": [],
   "source": [
    "# Capping Values\n",
    "#brick_ranch_df['Acreage'] = brick_ranch_df['Acreage'].replace(['old value'],'new value')\n",
    "brick_ranch_df.loc[brick_ranch_df['Acreage'] > 0.5, 'Acreage'] = 0.5"
   ]
  },
  {
   "cell_type": "code",
   "execution_count": 301,
   "metadata": {},
   "outputs": [
    {
     "data": {
      "image/png": "[encoded data removed]",
      "text/plain": [
       "<Figure size 432x288 with 1 Axes>"
      ]
     },
     "metadata": {
      "needs_background": "light"
     },
     "output_type": "display_data"
    }
   ],
   "source": [
    "import matplotlib.pyplot as plt\n",
    "plt.scatter(brick_ranch_df['Acreage'], brick_ranch_df['ClosePrice'])\n",
    "plt.title('Acreage Vs Close Price')\n",
    "plt.xlabel('Acreage')\n",
    "plt.ylabel('Price')\n",
    "plt.show()"
   ]
  },
  {
   "cell_type": "markdown",
   "metadata": {},
   "source": [
    "Data suggests that there is a poor relationship between Acreage and Close Price"
   ]
  },
  {
   "cell_type": "markdown",
   "metadata": {},
   "source": [
    "### Above Ground Living Area"
   ]
  },
  {
   "cell_type": "code",
   "execution_count": 295,
   "metadata": {},
   "outputs": [
    {
     "data": {
      "image/png": "[encoded data removed]",
      "text/plain": [
       "<Figure size 432x288 with 1 Axes>"
      ]
     },
     "metadata": {
      "needs_background": "light"
     },
     "output_type": "display_data"
    }
   ],
   "source": [
    "# Scatter Plot to see the relationship:Ground Square Feet\n",
    "\n",
    "# Scatter Plot\n",
    "import matplotlib.pyplot as plt\n",
    "plt.scatter(brick_ranch_df['Est_Fin_Abv_Grd_SqFt'], brick_ranch_df['ClosePrice'])\n",
    "plt.title('Above Ground Living Area Vs Close Price')\n",
    "plt.xlabel('Est_Fin_Abv_Grd_SqFt')\n",
    "plt.ylabel('Price')\n",
    "plt.show()"
   ]
  },
  {
   "cell_type": "markdown",
   "metadata": {},
   "source": [
    "Very strong correlation between price and Above Ground Living Area."
   ]
  },
  {
   "cell_type": "markdown",
   "metadata": {},
   "source": [
    "### Correlation Analysis"
   ]
  },
  {
   "cell_type": "code",
   "execution_count": 304,
   "metadata": {},
   "outputs": [],
   "source": [
    "brick_ranch_df_1 = brick_ranch_df.loc[:,['ClosePrice','Est_Fin_Abv_Grd_SqFt','Acreage']]"
   ]
  },
  {
   "cell_type": "code",
   "execution_count": 305,
   "metadata": {},
   "outputs": [
    {
     "data": {
      "image/png": "[encoded data removed]",
      "text/plain": [
       "<Figure size 432x288 with 2 Axes>"
      ]
     },
     "metadata": {
      "needs_background": "light"
     },
     "output_type": "display_data"
    }
   ],
   "source": [
    "# Correlation Plot\n",
    "import seaborn as sns\n",
    "\n",
    "corr = brick_ranch_df_1.corr()\n",
    "ax = sns.heatmap(\n",
    "    corr, \n",
    "    vmin=-1, vmax=1, center=0,\n",
    "    cmap=sns.diverging_palette(20, 220, n=200),\n",
    "    square=True\n",
    ")\n",
    "ax.set_xticklabels(\n",
    "    ax.get_xticklabels(),\n",
    "    rotation=45,\n",
    "    horizontalalignment='right'\n",
    ");"
   ]
  },
  {
   "cell_type": "code",
   "execution_count": 307,
   "metadata": {},
   "outputs": [
    {
     "data": {
      "text/plain": [
       "0.5592605273927778"
      ]
     },
     "execution_count": 307,
     "metadata": {},
     "output_type": "execute_result"
    }
   ],
   "source": [
    "brick_ranch_df['Est_Fin_Abv_Grd_SqFt'].corr(brick_ranch_df['ClosePrice'])"
   ]
  },
  {
   "cell_type": "markdown",
   "metadata": {},
   "source": [
    "Good level of correlation between Above Ground Living Area and Close Prices"
   ]
  },
  {
   "cell_type": "code",
   "execution_count": 308,
   "metadata": {},
   "outputs": [
    {
     "data": {
      "text/plain": [
       "0.11295144370600407"
      ]
     },
     "execution_count": 308,
     "metadata": {},
     "output_type": "execute_result"
    }
   ],
   "source": [
    "brick_ranch_df['Acreage'].corr(brick_ranch_df['ClosePrice'])"
   ]
  },
  {
   "cell_type": "markdown",
   "metadata": {},
   "source": [
    "As value - 0.11  is very close 1, we can conclude that they are not correlated "
   ]
  },
  {
   "cell_type": "markdown",
   "metadata": {},
   "source": [
    "# Regression Analysis"
   ]
  },
  {
   "cell_type": "code",
   "execution_count": 324,
   "metadata": {},
   "outputs": [],
   "source": [
    "from statsmodels.api import add_constant\n",
    "import statsmodels.api as sm\n"
   ]
  },
  {
   "cell_type": "code",
   "execution_count": 333,
   "metadata": {},
   "outputs": [
    {
     "data": {
      "text/html": [
       "<table class=\"simpletable\">\n",
       "<caption>OLS Regression Results</caption>\n",
       "<tr>\n",
       "  <th>Dep. Variable:</th>       <td>ClosePrice</td>    <th>  R-squared:         </th> <td>   0.014</td> \n",
       "</tr>\n",
       "<tr>\n",
       "  <th>Model:</th>                   <td>OLS</td>       <th>  Adj. R-squared:    </th> <td>   0.014</td> \n",
       "</tr>\n",
       "<tr>\n",
       "  <th>Method:</th>             <td>Least Squares</td>  <th>  F-statistic:       </th> <td>   25.43</td> \n",
       "</tr>\n",
       "<tr>\n",
       "  <th>Date:</th>             <td>Fri, 24 Jul 2020</td> <th>  Prob (F-statistic):</th> <td>5.05e-07</td> \n",
       "</tr>\n",
       "<tr>\n",
       "  <th>Time:</th>                 <td>18:24:28</td>     <th>  Log-Likelihood:    </th> <td> -20835.</td> \n",
       "</tr>\n",
       "<tr>\n",
       "  <th>No. Observations:</th>      <td>  1781</td>      <th>  AIC:               </th> <td>4.167e+04</td>\n",
       "</tr>\n",
       "<tr>\n",
       "  <th>Df Residuals:</th>          <td>  1779</td>      <th>  BIC:               </th> <td>4.169e+04</td>\n",
       "</tr>\n",
       "<tr>\n",
       "  <th>Df Model:</th>              <td>     1</td>      <th>                     </th>     <td> </td>    \n",
       "</tr>\n",
       "<tr>\n",
       "  <th>Covariance Type:</th>      <td>nonrobust</td>    <th>                     </th>     <td> </td>    \n",
       "</tr>\n",
       "</table>\n",
       "<table class=\"simpletable\">\n",
       "<tr>\n",
       "         <td></td>           <th>coef</th>     <th>std err</th>      <th>t</th>      <th>P>|t|</th>  <th>[0.025</th>    <th>0.975]</th>  \n",
       "</tr>\n",
       "<tr>\n",
       "  <th>const</th>          <td>  1.66e+05</td> <td>  907.412</td> <td>  182.967</td> <td> 0.000</td> <td> 1.64e+05</td> <td> 1.68e+05</td>\n",
       "</tr>\n",
       "<tr>\n",
       "  <th>BasementType_2</th> <td> 7056.2702</td> <td> 1399.251</td> <td>    5.043</td> <td> 0.000</td> <td> 4311.921</td> <td> 9800.619</td>\n",
       "</tr>\n",
       "</table>\n",
       "<table class=\"simpletable\">\n",
       "<tr>\n",
       "  <th>Omnibus:</th>       <td>31.180</td> <th>  Durbin-Watson:     </th> <td>   1.653</td>\n",
       "</tr>\n",
       "<tr>\n",
       "  <th>Prob(Omnibus):</th> <td> 0.000</td> <th>  Jarque-Bera (JB):  </th> <td>  38.731</td>\n",
       "</tr>\n",
       "<tr>\n",
       "  <th>Skew:</th>          <td> 0.238</td> <th>  Prob(JB):          </th> <td>3.89e-09</td>\n",
       "</tr>\n",
       "<tr>\n",
       "  <th>Kurtosis:</th>      <td> 3.543</td> <th>  Cond. No.          </th> <td>    2.47</td>\n",
       "</tr>\n",
       "</table><br/><br/>Warnings:<br/>[1] Standard Errors assume that the covariance matrix of the errors is correctly specified."
      ],
      "text/plain": [
       "<class 'statsmodels.iolib.summary.Summary'>\n",
       "\"\"\"\n",
       "                            OLS Regression Results                            \n",
       "==============================================================================\n",
       "Dep. Variable:             ClosePrice   R-squared:                       0.014\n",
       "Model:                            OLS   Adj. R-squared:                  0.014\n",
       "Method:                 Least Squares   F-statistic:                     25.43\n",
       "Date:                Fri, 24 Jul 2020   Prob (F-statistic):           5.05e-07\n",
       "Time:                        18:24:28   Log-Likelihood:                -20835.\n",
       "No. Observations:                1781   AIC:                         4.167e+04\n",
       "Df Residuals:                    1779   BIC:                         4.169e+04\n",
       "Df Model:                           1                                         \n",
       "Covariance Type:            nonrobust                                         \n",
       "==================================================================================\n",
       "                     coef    std err          t      P>|t|      [0.025      0.975]\n",
       "----------------------------------------------------------------------------------\n",
       "const            1.66e+05    907.412    182.967      0.000    1.64e+05    1.68e+05\n",
       "BasementType_2  7056.2702   1399.251      5.043      0.000    4311.921    9800.619\n",
       "==============================================================================\n",
       "Omnibus:                       31.180   Durbin-Watson:                   1.653\n",
       "Prob(Omnibus):                  0.000   Jarque-Bera (JB):               38.731\n",
       "Skew:                           0.238   Prob(JB):                     3.89e-09\n",
       "Kurtosis:                       3.543   Cond. No.                         2.47\n",
       "==============================================================================\n",
       "\n",
       "Warnings:\n",
       "[1] Standard Errors assume that the covariance matrix of the errors is correctly specified.\n",
       "\"\"\""
      ]
     },
     "execution_count": 333,
     "metadata": {},
     "output_type": "execute_result"
    }
   ],
   "source": [
    "brick_ranch_df_features = brick_ranch_df.loc[:,['BasementType_2','Out_Buildings_2','Baths_Full','Baths_Half','Beds_Total','is_remodeled','Acreage','Est_Fin_Abv_Grd_SqFt']]\n",
    "# Simple\n",
    "simpleOLS = sm.OLS(brick_ranch_df['ClosePrice'], add_constant(brick_ranch_df['BasementType_2'])).fit()\n",
    "simpleOLS.summary()"
   ]
  },
  {
   "cell_type": "code",
   "execution_count": 338,
   "metadata": {},
   "outputs": [
    {
     "data": {
      "text/html": [
       "<table class=\"simpletable\">\n",
       "<caption>OLS Regression Results</caption>\n",
       "<tr>\n",
       "  <th>Dep. Variable:</th>       <td>ClosePrice</td>    <th>  R-squared:         </th> <td>   0.374</td> \n",
       "</tr>\n",
       "<tr>\n",
       "  <th>Model:</th>                   <td>OLS</td>       <th>  Adj. R-squared:    </th> <td>   0.372</td> \n",
       "</tr>\n",
       "<tr>\n",
       "  <th>Method:</th>             <td>Least Squares</td>  <th>  F-statistic:       </th> <td>   212.0</td> \n",
       "</tr>\n",
       "<tr>\n",
       "  <th>Date:</th>             <td>Fri, 24 Jul 2020</td> <th>  Prob (F-statistic):</th> <td>1.46e-177</td>\n",
       "</tr>\n",
       "<tr>\n",
       "  <th>Time:</th>                 <td>18:27:16</td>     <th>  Log-Likelihood:    </th> <td> -20431.</td> \n",
       "</tr>\n",
       "<tr>\n",
       "  <th>No. Observations:</th>      <td>  1781</td>      <th>  AIC:               </th> <td>4.087e+04</td>\n",
       "</tr>\n",
       "<tr>\n",
       "  <th>Df Residuals:</th>          <td>  1775</td>      <th>  BIC:               </th> <td>4.091e+04</td>\n",
       "</tr>\n",
       "<tr>\n",
       "  <th>Df Model:</th>              <td>     5</td>      <th>                     </th>     <td> </td>    \n",
       "</tr>\n",
       "<tr>\n",
       "  <th>Covariance Type:</th>      <td>nonrobust</td>    <th>                     </th>     <td> </td>    \n",
       "</tr>\n",
       "</table>\n",
       "<table class=\"simpletable\">\n",
       "<tr>\n",
       "            <td></td>              <th>coef</th>     <th>std err</th>      <th>t</th>      <th>P>|t|</th>  <th>[0.025</th>    <th>0.975]</th>  \n",
       "</tr>\n",
       "<tr>\n",
       "  <th>const</th>                <td> 2.583e+04</td> <td> 4569.314</td> <td>    5.653</td> <td> 0.000</td> <td> 1.69e+04</td> <td> 3.48e+04</td>\n",
       "</tr>\n",
       "<tr>\n",
       "  <th>BasementType_2</th>       <td> 6196.0273</td> <td> 1130.229</td> <td>    5.482</td> <td> 0.000</td> <td> 3979.308</td> <td> 8412.746</td>\n",
       "</tr>\n",
       "<tr>\n",
       "  <th>Out_Buildings_2</th>      <td> 4674.5148</td> <td> 1638.753</td> <td>    2.852</td> <td> 0.004</td> <td> 1460.426</td> <td> 7888.603</td>\n",
       "</tr>\n",
       "<tr>\n",
       "  <th>Baths_Full</th>           <td> 1.078e+04</td> <td> 1251.994</td> <td>    8.607</td> <td> 0.000</td> <td> 8319.915</td> <td> 1.32e+04</td>\n",
       "</tr>\n",
       "<tr>\n",
       "  <th>is_remodeled</th>         <td> 8543.6608</td> <td> 1537.739</td> <td>    5.556</td> <td> 0.000</td> <td> 5527.690</td> <td> 1.16e+04</td>\n",
       "</tr>\n",
       "<tr>\n",
       "  <th>Est_Fin_Abv_Grd_SqFt</th> <td>   99.7114</td> <td>    3.539</td> <td>   28.176</td> <td> 0.000</td> <td>   92.771</td> <td>  106.652</td>\n",
       "</tr>\n",
       "</table>\n",
       "<table class=\"simpletable\">\n",
       "<tr>\n",
       "  <th>Omnibus:</th>       <td>28.980</td> <th>  Durbin-Watson:     </th> <td>   1.646</td>\n",
       "</tr>\n",
       "<tr>\n",
       "  <th>Prob(Omnibus):</th> <td> 0.000</td> <th>  Jarque-Bera (JB):  </th> <td>  46.497</td>\n",
       "</tr>\n",
       "<tr>\n",
       "  <th>Skew:</th>          <td>-0.133</td> <th>  Prob(JB):          </th> <td>8.00e-11</td>\n",
       "</tr>\n",
       "<tr>\n",
       "  <th>Kurtosis:</th>      <td> 3.746</td> <th>  Cond. No.          </th> <td>1.05e+04</td>\n",
       "</tr>\n",
       "</table><br/><br/>Warnings:<br/>[1] Standard Errors assume that the covariance matrix of the errors is correctly specified.<br/>[2] The condition number is large, 1.05e+04. This might indicate that there are<br/>strong multicollinearity or other numerical problems."
      ],
      "text/plain": [
       "<class 'statsmodels.iolib.summary.Summary'>\n",
       "\"\"\"\n",
       "                            OLS Regression Results                            \n",
       "==============================================================================\n",
       "Dep. Variable:             ClosePrice   R-squared:                       0.374\n",
       "Model:                            OLS   Adj. R-squared:                  0.372\n",
       "Method:                 Least Squares   F-statistic:                     212.0\n",
       "Date:                Fri, 24 Jul 2020   Prob (F-statistic):          1.46e-177\n",
       "Time:                        18:27:16   Log-Likelihood:                -20431.\n",
       "No. Observations:                1781   AIC:                         4.087e+04\n",
       "Df Residuals:                    1775   BIC:                         4.091e+04\n",
       "Df Model:                           5                                         \n",
       "Covariance Type:            nonrobust                                         \n",
       "========================================================================================\n",
       "                           coef    std err          t      P>|t|      [0.025      0.975]\n",
       "----------------------------------------------------------------------------------------\n",
       "const                 2.583e+04   4569.314      5.653      0.000    1.69e+04    3.48e+04\n",
       "BasementType_2        6196.0273   1130.229      5.482      0.000    3979.308    8412.746\n",
       "Out_Buildings_2       4674.5148   1638.753      2.852      0.004    1460.426    7888.603\n",
       "Baths_Full            1.078e+04   1251.994      8.607      0.000    8319.915    1.32e+04\n",
       "is_remodeled          8543.6608   1537.739      5.556      0.000    5527.690    1.16e+04\n",
       "Est_Fin_Abv_Grd_SqFt    99.7114      3.539     28.176      0.000      92.771     106.652\n",
       "==============================================================================\n",
       "Omnibus:                       28.980   Durbin-Watson:                   1.646\n",
       "Prob(Omnibus):                  0.000   Jarque-Bera (JB):               46.497\n",
       "Skew:                          -0.133   Prob(JB):                     8.00e-11\n",
       "Kurtosis:                       3.746   Cond. No.                     1.05e+04\n",
       "==============================================================================\n",
       "\n",
       "Warnings:\n",
       "[1] Standard Errors assume that the covariance matrix of the errors is correctly specified.\n",
       "[2] The condition number is large, 1.05e+04. This might indicate that there are\n",
       "strong multicollinearity or other numerical problems.\n",
       "\"\"\""
      ]
     },
     "execution_count": 338,
     "metadata": {},
     "output_type": "execute_result"
    }
   ],
   "source": [
    "brick_ranch_df_features2 = brick_ranch_df.loc[:,['BasementType_2','Out_Buildings_2','Baths_Full','is_remodeled','Est_Fin_Abv_Grd_SqFt']]\n",
    "\n",
    "MultipleOLS = sm.OLS(brick_ranch_df['ClosePrice'], add_constant(brick_ranch_df_features2)).fit()\n",
    "MultipleOLS.summary()"
   ]
  },
  {
   "cell_type": "code",
   "execution_count": null,
   "metadata": {},
   "outputs": [],
   "source": []
  },
  {
   "cell_type": "code",
   "execution_count": null,
   "metadata": {},
   "outputs": [],
   "source": []
  },
  {
   "cell_type": "code",
   "execution_count": null,
   "metadata": {},
   "outputs": [],
   "source": []
  }
 ],
 "metadata": {
  "kernelspec": {
   "display_name": "Python 3",
   "language": "python",
   "name": "python3"
  },
  "language_info": {
   "codemirror_mode": {
    "name": "ipython",
    "version": 3
   },
   "file_extension": ".py",
   "mimetype": "text/x-python",
   "name": "python",
   "nbconvert_exporter": "python",
   "pygments_lexer": "ipython3",
   "version": "3.7.6"
  }
 },
 "nbformat": 4,
 "nbformat_minor": 4
}
